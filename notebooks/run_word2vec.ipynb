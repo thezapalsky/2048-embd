{
  "cells": [
    {
      "cell_type": "code",
      "execution_count": 31,
      "metadata": {},
      "outputs": [],
      "source": [
        "# original source:\n",
        "# https://radimrehurek.com/gensim/auto_examples/tutorials/run_word2vec.html#sphx-glr-auto-examples-tutorials-run-word2vec-py"
      ]
    },
    {
      "cell_type": "code",
      "execution_count": 1,
      "metadata": {
        "collapsed": false
      },
      "outputs": [],
      "source": [
        "%matplotlib inline"
      ]
    },
    {
      "cell_type": "markdown",
      "metadata": {},
      "source": [
        "# Word2Vec Model\n",
        "\n",
        "Introduces Gensim's Word2Vec model and demonstrates its use on the `Lee Evaluation Corpus\n",
        "<https://hekyll.services.adelaide.edu.au/dspace/bitstream/2440/28910/1/hdl_28910.pdf>`\\_.\n"
      ]
    },
    {
      "cell_type": "code",
      "execution_count": 2,
      "metadata": {
        "collapsed": false
      },
      "outputs": [],
      "source": [
        "import logging\n",
        "\n",
        "logging.basicConfig(\n",
        "    format=\"%(asctime)s : %(levelname)s : %(message)s\", level=logging.INFO\n",
        ")"
      ]
    },
    {
      "cell_type": "markdown",
      "metadata": {},
      "source": [
        "In case you missed the buzz, Word2Vec is a widely used algorithm based on neural\n",
        "networks, commonly referred to as \"deep learning\" (though word2vec itself is rather shallow).\n",
        "Using large amounts of unannotated plain text, word2vec learns relationships\n",
        "between words automatically. The output are vectors, one vector per word,\n",
        "with remarkable linear relationships that allow us to do things like:\n",
        "\n",
        "- vec(\"king\") - vec(\"man\") + vec(\"woman\") =~ vec(\"queen\")\n",
        "- vec(\"Montreal Canadiens\") – vec(\"Montreal\") + vec(\"Toronto\") =~ vec(\"Toronto Maple Leafs\").\n",
        "\n",
        "Word2vec is very useful in `automatic text tagging\n",
        "<https://github.com/RaRe-Technologies/movie-plots-by-genre>`\\_\\ , recommender\n",
        "systems and machine translation.\n",
        "\n",
        "This tutorial:\n",
        "\n",
        "#. Introduces `Word2Vec` as an improvement over traditional bag-of-words\n",
        "#. Shows off a demo of `Word2Vec` using a pre-trained model\n",
        "#. Demonstrates training a new model from your own data\n",
        "#. Demonstrates loading and saving models\n",
        "#. Introduces several training parameters and demonstrates their effect\n",
        "#. Discusses memory requirements\n",
        "#. Visualizes Word2Vec embeddings by applying dimensionality reduction\n",
        "\n",
        "## Review: Bag-of-words\n",
        "\n",
        ".. Note:: Feel free to skip these review sections if you're already familiar with the models.\n",
        "\n",
        "You may be familiar with the `bag-of-words model\n",
        "<https://en.wikipedia.org/wiki/Bag-of-words_model>`\\_ from the\n",
        "`core_concepts_vector` section.\n",
        "This model transforms each document to a fixed-length vector of integers.\n",
        "For example, given the sentences:\n",
        "\n",
        "- `John likes to watch movies. Mary likes movies too.`\n",
        "- `John also likes to watch football games. Mary hates football.`\n",
        "\n",
        "The model outputs the vectors:\n",
        "\n",
        "- `[1, 2, 1, 1, 2, 1, 1, 0, 0, 0, 0]`\n",
        "- `[1, 1, 1, 1, 0, 1, 0, 1, 2, 1, 1]`\n",
        "\n",
        "Each vector has 10 elements, where each element counts the number of times a\n",
        "particular word occurred in the document.\n",
        "The order of elements is arbitrary.\n",
        "In the example above, the order of the elements corresponds to the words:\n",
        "`[\"John\", \"likes\", \"to\", \"watch\", \"movies\", \"Mary\", \"too\", \"also\", \"football\", \"games\", \"hates\"]`.\n",
        "\n",
        "Bag-of-words models are surprisingly effective, but have several weaknesses.\n",
        "\n",
        "First, they lose all information about word order: \"John likes Mary\" and\n",
        "\"Mary likes John\" correspond to identical vectors. There is a solution: bag\n",
        "of `n-grams <https://en.wikipedia.org/wiki/N-gram>`\\_\\_\n",
        "models consider word phrases of length n to represent documents as\n",
        "fixed-length vectors to capture local word order but suffer from data\n",
        "sparsity and high dimensionality.\n",
        "\n",
        "Second, the model does not attempt to learn the meaning of the underlying\n",
        "words, and as a consequence, the distance between vectors doesn't always\n",
        "reflect the difference in meaning. The `Word2Vec` model addresses this\n",
        "second problem.\n",
        "\n",
        "## Introducing: the `Word2Vec` Model\n",
        "\n",
        "`Word2Vec` is a more recent model that embeds words in a lower-dimensional\n",
        "vector space using a shallow neural network. The result is a set of\n",
        "word-vectors where vectors close together in vector space have similar\n",
        "meanings based on context, and word-vectors distant to each other have\n",
        "differing meanings. For example, `strong` and `powerful` would be close\n",
        "together and `strong` and `Paris` would be relatively far.\n",
        "\n",
        "The are two versions of this model and :py:class:`~gensim.models.word2vec.Word2Vec`\n",
        "class implements them both:\n",
        "\n",
        "1. Skip-grams (SG)\n",
        "2. Continuous-bag-of-words (CBOW)\n",
        "\n",
        ".. Important::\n",
        "Don't let the implementation details below scare you.\n",
        "They're advanced material: if it's too much, then move on to the next section.\n",
        "\n",
        "The `Word2Vec Skip-gram <http://mccormickml.com/2016/04/19/word2vec-tutorial-the-skip-gram-model>`**\n",
        "model, for example, takes in pairs (word1, word2) generated by moving a\n",
        "window across text data, and trains a 1-hidden-layer neural network based on\n",
        "the synthetic task of given an input word, giving us a predicted probability\n",
        "distribution of nearby words to the input. A virtual `one-hot\n",
        "<https://en.wikipedia.org/wiki/One-hot>`** encoding of words\n",
        "goes through a 'projection layer' to the hidden layer; these projection\n",
        "weights are later interpreted as the word embeddings. So if the hidden layer\n",
        "has 300 neurons, this network will give us 300-dimensional word embeddings.\n",
        "\n",
        "Continuous-bag-of-words Word2vec is very similar to the skip-gram model. It\n",
        "is also a 1-hidden-layer neural network. The synthetic training task now uses\n",
        "the average of multiple input context words, rather than a single word as in\n",
        "skip-gram, to predict the center word. Again, the projection weights that\n",
        "turn one-hot words into averageable vectors, of the same width as the hidden\n",
        "layer, are interpreted as the word embeddings.\n"
      ]
    },
    {
      "cell_type": "markdown",
      "metadata": {},
      "source": [
        "## Word2Vec Demo\n",
        "\n",
        "To see what `Word2Vec` can do, let's download a pre-trained model and play\n",
        "around with it. We will fetch the Word2Vec model trained on part of the\n",
        "Google News dataset, covering approximately 3 million words and phrases. Such\n",
        "a model can take hours to train, but since it's already available,\n",
        "downloading and loading it with Gensim takes minutes.\n",
        "\n",
        ".. Important::\n",
        "The model is approximately 2GB, so you'll need a decent network connection\n",
        "to proceed. Otherwise, skip ahead to the \"Training Your Own Model\" section\n",
        "below.\n",
        "\n",
        "You may also check out an `online word2vec demo\n",
        "<http://radimrehurek.com/2014/02/word2vec-tutorial/#app>`\\_ where you can try\n",
        "this vector algebra for yourself. That demo runs `word2vec` on the\n",
        "**entire** Google News dataset, of **about 100 billion words**.\n"
      ]
    },
    {
      "cell_type": "code",
      "execution_count": 3,
      "metadata": {
        "collapsed": false
      },
      "outputs": [
        {
          "name": "stderr",
          "output_type": "stream",
          "text": [
            "2024-03-18 18:47:21,237 : INFO : Creating /Users/mikolaj/gensim-data\n"
          ]
        },
        {
          "name": "stdout",
          "output_type": "stream",
          "text": [
            "[==================================================] 100.0% 1662.8/1662.8MB downloaded\n"
          ]
        },
        {
          "name": "stderr",
          "output_type": "stream",
          "text": [
            "2024-03-18 18:55:09,159 : INFO : word2vec-google-news-300 downloaded\n",
            "2024-03-18 18:55:09,163 : INFO : loading projection weights from /Users/mikolaj/gensim-data/word2vec-google-news-300/word2vec-google-news-300.gz\n",
            "2024-03-18 18:55:34,118 : INFO : KeyedVectors lifecycle event {'msg': 'loaded (3000000, 300) matrix of type float32 from /Users/mikolaj/gensim-data/word2vec-google-news-300/word2vec-google-news-300.gz', 'binary': True, 'encoding': 'utf8', 'datetime': '2024-03-18T18:55:34.113145', 'gensim': '4.3.2', 'python': '3.9.18 (main, Sep 11 2023, 08:25:10) \\n[Clang 14.0.6 ]', 'platform': 'macOS-14.3.1-arm64-arm-64bit', 'event': 'load_word2vec_format'}\n"
          ]
        }
      ],
      "source": [
        "import gensim.downloader as api\n",
        "\n",
        "wv = api.load(\"word2vec-google-news-300\")"
      ]
    },
    {
      "cell_type": "markdown",
      "metadata": {},
      "source": [
        "A common operation is to retrieve the vocabulary of a model. That is trivial:\n"
      ]
    },
    {
      "cell_type": "code",
      "execution_count": 4,
      "metadata": {
        "collapsed": false
      },
      "outputs": [
        {
          "name": "stdout",
          "output_type": "stream",
          "text": [
            "word #0/3000000 is </s>\n",
            "word #1/3000000 is in\n",
            "word #2/3000000 is for\n",
            "word #3/3000000 is that\n",
            "word #4/3000000 is is\n",
            "word #5/3000000 is on\n",
            "word #6/3000000 is ##\n",
            "word #7/3000000 is The\n",
            "word #8/3000000 is with\n",
            "word #9/3000000 is said\n"
          ]
        }
      ],
      "source": [
        "for index, word in enumerate(wv.index_to_key):\n",
        "    if index == 10:\n",
        "        break\n",
        "    print(f\"word #{index}/{len(wv.index_to_key)} is {word}\")"
      ]
    },
    {
      "cell_type": "markdown",
      "metadata": {},
      "source": [
        "We can easily obtain vectors for terms the model is familiar with:\n"
      ]
    },
    {
      "cell_type": "code",
      "execution_count": 26,
      "metadata": {
        "collapsed": false
      },
      "outputs": [],
      "source": [
        "vec_king = wv[\"king\"]\n",
        "#vec_king"
      ]
    },
    {
      "cell_type": "markdown",
      "metadata": {},
      "source": [
        "Unfortunately, the model is unable to infer vectors for unfamiliar words.\n",
        "This is one limitation of Word2Vec: if this limitation matters to you, check\n",
        "out the FastText model.\n"
      ]
    },
    {
      "cell_type": "code",
      "execution_count": 6,
      "metadata": {
        "collapsed": false
      },
      "outputs": [
        {
          "name": "stdout",
          "output_type": "stream",
          "text": [
            "The word 'cameroon' does not appear in this model\n"
          ]
        }
      ],
      "source": [
        "try:\n",
        "    vec_cameroon = wv[\"cameroon\"]\n",
        "except KeyError:\n",
        "    print(\"The word 'cameroon' does not appear in this model\")"
      ]
    },
    {
      "cell_type": "markdown",
      "metadata": {},
      "source": [
        "Moving on, `Word2Vec` supports several word similarity tasks out of the\n",
        "box. You can see how the similarity intuitively decreases as the words get\n",
        "less and less similar.\n"
      ]
    },
    {
      "cell_type": "code",
      "execution_count": 7,
      "metadata": {
        "collapsed": false
      },
      "outputs": [
        {
          "name": "stdout",
          "output_type": "stream",
          "text": [
            "'car'\t'minivan'\t0.69\n",
            "'car'\t'bicycle'\t0.54\n",
            "'car'\t'airplane'\t0.42\n",
            "'car'\t'cereal'\t0.14\n",
            "'car'\t'communism'\t0.06\n"
          ]
        }
      ],
      "source": [
        "pairs = [\n",
        "    (\"car\", \"minivan\"),  # a minivan is a kind of car\n",
        "    (\"car\", \"bicycle\"),  # still a wheeled vehicle\n",
        "    (\"car\", \"airplane\"),  # ok, no wheels, but still a vehicle\n",
        "    (\"car\", \"cereal\"),  # ... and so on\n",
        "    (\"car\", \"communism\"),\n",
        "]\n",
        "for w1, w2 in pairs:\n",
        "    print(\"%r\\t%r\\t%.2f\" % (w1, w2, wv.similarity(w1, w2)))"
      ]
    },
    {
      "cell_type": "markdown",
      "metadata": {},
      "source": [
        "Print the 5 most similar words to \"car\" or \"minivan\"\n"
      ]
    },
    {
      "cell_type": "code",
      "execution_count": 27,
      "metadata": {
        "collapsed": false
      },
      "outputs": [
        {
          "name": "stdout",
          "output_type": "stream",
          "text": [
            "[('SUV', 0.8532192707061768), ('vehicle', 0.8175783753395081), ('pickup_truck', 0.7763689756393433), ('Jeep', 0.7567334175109863), ('Ford_Explorer', 0.7565719485282898)]\n"
          ]
        }
      ],
      "source": [
        "print(wv.most_similar(positive=[\"car\", \"minivan\"], topn=5))"
      ]
    },
    {
      "cell_type": "markdown",
      "metadata": {},
      "source": [
        "Which of the below does not belong in the sequence?\n"
      ]
    },
    {
      "cell_type": "code",
      "execution_count": 29,
      "metadata": {
        "collapsed": false
      },
      "outputs": [
        {
          "name": "stdout",
          "output_type": "stream",
          "text": [
            "car\n"
          ]
        }
      ],
      "source": [
        "print(wv.doesnt_match([\"fire\", \"water\", \"land\", \"sea\", \"air\", \"car\"]))"
      ]
    },
    {
      "cell_type": "markdown",
      "metadata": {},
      "source": [
        "## Training Your Own Model\n",
        "\n",
        "To start, you'll need some data for training the model. For the following\n",
        "examples, we'll use the `Lee Evaluation Corpus\n",
        "<https://hekyll.services.adelaide.edu.au/dspace/bitstream/2440/28910/1/hdl_28910.pdf>`_\n",
        "(which you `already have\n",
        "<https://github.com/RaRe-Technologies/gensim/blob/develop/gensim/test/test_data/lee_background.cor>`_\n",
        "if you've installed Gensim).\n",
        "\n",
        "This corpus is small enough to fit entirely in memory, but we'll implement a\n",
        "memory-friendly iterator that reads it line-by-line to demonstrate how you\n",
        "would handle a larger corpus.\n"
      ]
    },
    {
      "cell_type": "code",
      "execution_count": 10,
      "metadata": {
        "collapsed": false
      },
      "outputs": [
        {
          "name": "stderr",
          "output_type": "stream",
          "text": [
            "2024-03-18 18:56:19,933 : INFO : adding document #0 to Dictionary<0 unique tokens: []>\n",
            "2024-03-18 18:56:19,940 : INFO : built Dictionary<12 unique tokens: ['computer', 'human', 'interface', 'response', 'survey']...> from 9 documents (total 29 corpus positions)\n",
            "2024-03-18 18:56:19,949 : INFO : Dictionary lifecycle event {'msg': \"built Dictionary<12 unique tokens: ['computer', 'human', 'interface', 'response', 'survey']...> from 9 documents (total 29 corpus positions)\", 'datetime': '2024-03-18T18:56:19.949630', 'gensim': '4.3.2', 'python': '3.9.18 (main, Sep 11 2023, 08:25:10) \\n[Clang 14.0.6 ]', 'platform': 'macOS-14.3.1-arm64-arm-64bit', 'event': 'created'}\n"
          ]
        }
      ],
      "source": [
        "from gensim.test.utils import datapath\n",
        "from gensim import utils\n",
        "\n",
        "\n",
        "class MyCorpus:\n",
        "    \"\"\"An iterator that yields sentences (lists of str).\"\"\"\n",
        "\n",
        "    def __iter__(self):\n",
        "        corpus_path = datapath(\"lee_background.cor\")\n",
        "        for line in open(corpus_path):\n",
        "            # assume there's one document per line, tokens separated by whitespace\n",
        "            yield utils.simple_preprocess(line)"
      ]
    },
    {
      "cell_type": "markdown",
      "metadata": {},
      "source": [
        "If we wanted to do any custom preprocessing, e.g. decode a non-standard\n",
        "encoding, lowercase, remove numbers, extract named entities... All of this can\n",
        "be done inside the `MyCorpus` iterator and `word2vec` doesn’t need to\n",
        "know. All that is required is that the input yields one sentence (list of\n",
        "utf8 words) after another.\n",
        "\n",
        "Let's go ahead and train a model on our corpus. Don't worry about the\n",
        "training parameters much for now, we'll revisit them later.\n"
      ]
    },
    {
      "cell_type": "code",
      "execution_count": 11,
      "metadata": {
        "collapsed": false
      },
      "outputs": [
        {
          "name": "stderr",
          "output_type": "stream",
          "text": [
            "2024-03-18 18:56:20,441 : INFO : collecting all words and their counts\n",
            "2024-03-18 18:56:20,451 : INFO : PROGRESS: at sentence #0, processed 0 words, keeping 0 word types\n",
            "2024-03-18 18:56:20,664 : INFO : collected 6981 word types from a corpus of 58152 raw words and 300 sentences\n",
            "2024-03-18 18:56:20,666 : INFO : Creating a fresh vocabulary\n",
            "2024-03-18 18:56:20,683 : INFO : Word2Vec lifecycle event {'msg': 'effective_min_count=5 retains 1750 unique words (25.07% of original 6981, drops 5231)', 'datetime': '2024-03-18T18:56:20.682928', 'gensim': '4.3.2', 'python': '3.9.18 (main, Sep 11 2023, 08:25:10) \\n[Clang 14.0.6 ]', 'platform': 'macOS-14.3.1-arm64-arm-64bit', 'event': 'prepare_vocab'}\n",
            "2024-03-18 18:56:20,683 : INFO : Word2Vec lifecycle event {'msg': 'effective_min_count=5 leaves 49335 word corpus (84.84% of original 58152, drops 8817)', 'datetime': '2024-03-18T18:56:20.683921', 'gensim': '4.3.2', 'python': '3.9.18 (main, Sep 11 2023, 08:25:10) \\n[Clang 14.0.6 ]', 'platform': 'macOS-14.3.1-arm64-arm-64bit', 'event': 'prepare_vocab'}\n",
            "2024-03-18 18:56:20,702 : INFO : deleting the raw counts dictionary of 6981 items\n",
            "2024-03-18 18:56:20,708 : INFO : sample=0.001 downsamples 51 most-common words\n",
            "2024-03-18 18:56:20,710 : INFO : Word2Vec lifecycle event {'msg': 'downsampling leaves estimated 35935.33721568072 word corpus (72.8%% of prior 49335)', 'datetime': '2024-03-18T18:56:20.710070', 'gensim': '4.3.2', 'python': '3.9.18 (main, Sep 11 2023, 08:25:10) \\n[Clang 14.0.6 ]', 'platform': 'macOS-14.3.1-arm64-arm-64bit', 'event': 'prepare_vocab'}\n",
            "2024-03-18 18:56:20,730 : INFO : estimated required memory for 1750 words and 100 dimensions: 2275000 bytes\n",
            "2024-03-18 18:56:22,380 : INFO : resetting layer weights\n",
            "2024-03-18 18:56:22,414 : INFO : Word2Vec lifecycle event {'update': False, 'trim_rule': 'None', 'datetime': '2024-03-18T18:56:22.414495', 'gensim': '4.3.2', 'python': '3.9.18 (main, Sep 11 2023, 08:25:10) \\n[Clang 14.0.6 ]', 'platform': 'macOS-14.3.1-arm64-arm-64bit', 'event': 'build_vocab'}\n",
            "2024-03-18 18:56:22,416 : INFO : Word2Vec lifecycle event {'msg': 'training model with 3 workers on 1750 vocabulary and 100 features, using sg=0 hs=0 sample=0.001 negative=5 window=5 shrink_windows=True', 'datetime': '2024-03-18T18:56:22.416457', 'gensim': '4.3.2', 'python': '3.9.18 (main, Sep 11 2023, 08:25:10) \\n[Clang 14.0.6 ]', 'platform': 'macOS-14.3.1-arm64-arm-64bit', 'event': 'train'}\n",
            "2024-03-18 18:56:22,529 : INFO : EPOCH 0: training on 58152 raw words (35883 effective words) took 0.1s, 401288 effective words/s\n",
            "2024-03-18 18:56:22,623 : INFO : EPOCH 1: training on 58152 raw words (35909 effective words) took 0.1s, 544093 effective words/s\n",
            "2024-03-18 18:56:22,690 : INFO : EPOCH 2: training on 58152 raw words (35992 effective words) took 0.1s, 549053 effective words/s\n",
            "2024-03-18 18:56:22,750 : INFO : EPOCH 3: training on 58152 raw words (35914 effective words) took 0.1s, 610949 effective words/s\n",
            "2024-03-18 18:56:22,813 : INFO : EPOCH 4: training on 58152 raw words (35995 effective words) took 0.1s, 587160 effective words/s\n",
            "2024-03-18 18:56:22,813 : INFO : Word2Vec lifecycle event {'msg': 'training on 290760 raw words (179693 effective words) took 0.4s, 453200 effective words/s', 'datetime': '2024-03-18T18:56:22.813950', 'gensim': '4.3.2', 'python': '3.9.18 (main, Sep 11 2023, 08:25:10) \\n[Clang 14.0.6 ]', 'platform': 'macOS-14.3.1-arm64-arm-64bit', 'event': 'train'}\n",
            "2024-03-18 18:56:22,814 : INFO : Word2Vec lifecycle event {'params': 'Word2Vec<vocab=1750, vector_size=100, alpha=0.025>', 'datetime': '2024-03-18T18:56:22.814221', 'gensim': '4.3.2', 'python': '3.9.18 (main, Sep 11 2023, 08:25:10) \\n[Clang 14.0.6 ]', 'platform': 'macOS-14.3.1-arm64-arm-64bit', 'event': 'created'}\n"
          ]
        }
      ],
      "source": [
        "import gensim.models\n",
        "\n",
        "sentences = MyCorpus()\n",
        "model = gensim.models.Word2Vec(sentences=sentences)"
      ]
    },
    {
      "cell_type": "markdown",
      "metadata": {},
      "source": [
        "Once we have our model, we can use it in the same way as in the demo above.\n",
        "\n",
        "The main part of the model is `model.wv`\\ , where \"wv\" stands for \"word vectors\".\n"
      ]
    },
    {
      "cell_type": "code",
      "execution_count": 12,
      "metadata": {
        "collapsed": false
      },
      "outputs": [],
      "source": [
        "vec_king = model.wv[\"king\"]"
      ]
    },
    {
      "cell_type": "markdown",
      "metadata": {},
      "source": [
        "Retrieving the vocabulary works the same way:\n"
      ]
    },
    {
      "cell_type": "code",
      "execution_count": 13,
      "metadata": {
        "collapsed": false
      },
      "outputs": [
        {
          "name": "stdout",
          "output_type": "stream",
          "text": [
            "word #0/3000000 is </s>\n",
            "word #1/3000000 is in\n",
            "word #2/3000000 is for\n",
            "word #3/3000000 is that\n",
            "word #4/3000000 is is\n",
            "word #5/3000000 is on\n",
            "word #6/3000000 is ##\n",
            "word #7/3000000 is The\n",
            "word #8/3000000 is with\n",
            "word #9/3000000 is said\n"
          ]
        }
      ],
      "source": [
        "for index, word in enumerate(wv.index_to_key):\n",
        "    if index == 10:\n",
        "        break\n",
        "    print(f\"word #{index}/{len(wv.index_to_key)} is {word}\")"
      ]
    },
    {
      "cell_type": "markdown",
      "metadata": {},
      "source": [
        "## Storing and loading models\n",
        "\n",
        "You'll notice that training non-trivial models can take time. Once you've\n",
        "trained your model and it works as expected, you can save it to disk. That\n",
        "way, you don't have to spend time training it all over again later.\n",
        "\n",
        "You can store/load models using the standard gensim methods:\n"
      ]
    },
    {
      "cell_type": "code",
      "execution_count": 14,
      "metadata": {
        "collapsed": false
      },
      "outputs": [
        {
          "name": "stderr",
          "output_type": "stream",
          "text": [
            "2024-03-18 18:56:22,872 : INFO : Word2Vec lifecycle event {'fname_or_handle': '/var/folders/92/zxctmr690hg7vxthclr_pprm0000gn/T/gensim-model-3tb0739e', 'separately': 'None', 'sep_limit': 10485760, 'ignore': frozenset(), 'datetime': '2024-03-18T18:56:22.872368', 'gensim': '4.3.2', 'python': '3.9.18 (main, Sep 11 2023, 08:25:10) \\n[Clang 14.0.6 ]', 'platform': 'macOS-14.3.1-arm64-arm-64bit', 'event': 'saving'}\n",
            "2024-03-18 18:56:22,876 : INFO : not storing attribute cum_table\n",
            "2024-03-18 18:56:22,889 : INFO : saved /var/folders/92/zxctmr690hg7vxthclr_pprm0000gn/T/gensim-model-3tb0739e\n",
            "2024-03-18 18:56:22,891 : INFO : loading Word2Vec object from /var/folders/92/zxctmr690hg7vxthclr_pprm0000gn/T/gensim-model-3tb0739e\n",
            "2024-03-18 18:56:22,898 : INFO : loading wv recursively from /var/folders/92/zxctmr690hg7vxthclr_pprm0000gn/T/gensim-model-3tb0739e.wv.* with mmap=None\n",
            "2024-03-18 18:56:22,899 : INFO : setting ignored attribute cum_table to None\n",
            "2024-03-18 18:56:22,908 : INFO : Word2Vec lifecycle event {'fname': '/var/folders/92/zxctmr690hg7vxthclr_pprm0000gn/T/gensim-model-3tb0739e', 'datetime': '2024-03-18T18:56:22.908938', 'gensim': '4.3.2', 'python': '3.9.18 (main, Sep 11 2023, 08:25:10) \\n[Clang 14.0.6 ]', 'platform': 'macOS-14.3.1-arm64-arm-64bit', 'event': 'loaded'}\n"
          ]
        }
      ],
      "source": [
        "import tempfile\n",
        "\n",
        "with tempfile.NamedTemporaryFile(prefix=\"gensim-model-\", delete=False) as tmp:\n",
        "    temporary_filepath = tmp.name\n",
        "    model.save(temporary_filepath)\n",
        "    #\n",
        "    # The model is now safely stored in the filepath.\n",
        "    # You can copy it to other machines, share it with others, etc.\n",
        "    #\n",
        "    # To load a saved model:\n",
        "    #\n",
        "    new_model = gensim.models.Word2Vec.load(temporary_filepath)"
      ]
    },
    {
      "cell_type": "markdown",
      "metadata": {},
      "source": [
        "which uses pickle internally, optionally `mmap`\\ ‘ing the model’s internal\n",
        "large NumPy matrices into virtual memory directly from disk files, for\n",
        "inter-process memory sharing.\n",
        "\n",
        "In addition, you can load models created by the original C tool, both using\n",
        "its text and binary formats::\n",
        "\n",
        "model = gensim.models.KeyedVectors.load_word2vec_format('/tmp/vectors.txt', binary=False)\n",
        "\n",
        "# using gzipped/bz2 input works too, no need to unzip\n",
        "\n",
        "model = gensim.models.KeyedVectors.load_word2vec_format('/tmp/vectors.bin.gz', binary=True)\n"
      ]
    },
    {
      "cell_type": "markdown",
      "metadata": {},
      "source": [
        "## Training Parameters\n",
        "\n",
        "`Word2Vec` accepts several parameters that affect both training speed and quality.\n",
        "\n",
        "## min_count\n",
        "\n",
        "`min_count` is for pruning the internal dictionary. Words that appear only\n",
        "once or twice in a billion-word corpus are probably uninteresting typos and\n",
        "garbage. In addition, there’s not enough data to make any meaningful training\n",
        "on those words, so it’s best to ignore them:\n",
        "\n",
        "default value of min_count=5\n"
      ]
    },
    {
      "cell_type": "code",
      "execution_count": 15,
      "metadata": {
        "collapsed": false
      },
      "outputs": [
        {
          "name": "stderr",
          "output_type": "stream",
          "text": [
            "2024-03-18 18:56:22,917 : INFO : collecting all words and their counts\n",
            "2024-03-18 18:56:22,919 : INFO : PROGRESS: at sentence #0, processed 0 words, keeping 0 word types\n",
            "2024-03-18 18:56:22,982 : INFO : collected 6981 word types from a corpus of 58152 raw words and 300 sentences\n",
            "2024-03-18 18:56:22,982 : INFO : Creating a fresh vocabulary\n",
            "2024-03-18 18:56:22,987 : INFO : Word2Vec lifecycle event {'msg': 'effective_min_count=10 retains 889 unique words (12.73% of original 6981, drops 6092)', 'datetime': '2024-03-18T18:56:22.987935', 'gensim': '4.3.2', 'python': '3.9.18 (main, Sep 11 2023, 08:25:10) \\n[Clang 14.0.6 ]', 'platform': 'macOS-14.3.1-arm64-arm-64bit', 'event': 'prepare_vocab'}\n",
            "2024-03-18 18:56:22,989 : INFO : Word2Vec lifecycle event {'msg': 'effective_min_count=10 leaves 43776 word corpus (75.28% of original 58152, drops 14376)', 'datetime': '2024-03-18T18:56:22.989110', 'gensim': '4.3.2', 'python': '3.9.18 (main, Sep 11 2023, 08:25:10) \\n[Clang 14.0.6 ]', 'platform': 'macOS-14.3.1-arm64-arm-64bit', 'event': 'prepare_vocab'}\n",
            "2024-03-18 18:56:22,991 : INFO : deleting the raw counts dictionary of 6981 items\n",
            "2024-03-18 18:56:22,993 : INFO : sample=0.001 downsamples 55 most-common words\n",
            "2024-03-18 18:56:22,994 : INFO : Word2Vec lifecycle event {'msg': 'downsampling leaves estimated 29691.39528319831 word corpus (67.8%% of prior 43776)', 'datetime': '2024-03-18T18:56:22.994225', 'gensim': '4.3.2', 'python': '3.9.18 (main, Sep 11 2023, 08:25:10) \\n[Clang 14.0.6 ]', 'platform': 'macOS-14.3.1-arm64-arm-64bit', 'event': 'prepare_vocab'}\n",
            "2024-03-18 18:56:22,999 : INFO : estimated required memory for 889 words and 100 dimensions: 1155700 bytes\n",
            "2024-03-18 18:56:23,000 : INFO : resetting layer weights\n",
            "2024-03-18 18:56:23,001 : INFO : Word2Vec lifecycle event {'update': False, 'trim_rule': 'None', 'datetime': '2024-03-18T18:56:23.001563', 'gensim': '4.3.2', 'python': '3.9.18 (main, Sep 11 2023, 08:25:10) \\n[Clang 14.0.6 ]', 'platform': 'macOS-14.3.1-arm64-arm-64bit', 'event': 'build_vocab'}\n",
            "2024-03-18 18:56:23,002 : INFO : Word2Vec lifecycle event {'msg': 'training model with 3 workers on 889 vocabulary and 100 features, using sg=0 hs=0 sample=0.001 negative=5 window=5 shrink_windows=True', 'datetime': '2024-03-18T18:56:23.002537', 'gensim': '4.3.2', 'python': '3.9.18 (main, Sep 11 2023, 08:25:10) \\n[Clang 14.0.6 ]', 'platform': 'macOS-14.3.1-arm64-arm-64bit', 'event': 'train'}\n",
            "2024-03-18 18:56:23,060 : INFO : EPOCH 0: training on 58152 raw words (29735 effective words) took 0.1s, 554902 effective words/s\n",
            "2024-03-18 18:56:23,155 : INFO : EPOCH 1: training on 58152 raw words (29706 effective words) took 0.1s, 318764 effective words/s\n",
            "2024-03-18 18:56:23,231 : INFO : EPOCH 2: training on 58152 raw words (29649 effective words) took 0.1s, 496687 effective words/s\n",
            "2024-03-18 18:56:23,314 : INFO : EPOCH 3: training on 58152 raw words (29693 effective words) took 0.1s, 365275 effective words/s\n",
            "2024-03-18 18:56:23,374 : INFO : EPOCH 4: training on 58152 raw words (29613 effective words) took 0.1s, 510964 effective words/s\n",
            "2024-03-18 18:56:23,374 : INFO : Word2Vec lifecycle event {'msg': 'training on 290760 raw words (148396 effective words) took 0.4s, 400998 effective words/s', 'datetime': '2024-03-18T18:56:23.374768', 'gensim': '4.3.2', 'python': '3.9.18 (main, Sep 11 2023, 08:25:10) \\n[Clang 14.0.6 ]', 'platform': 'macOS-14.3.1-arm64-arm-64bit', 'event': 'train'}\n",
            "2024-03-18 18:56:23,375 : INFO : Word2Vec lifecycle event {'params': 'Word2Vec<vocab=889, vector_size=100, alpha=0.025>', 'datetime': '2024-03-18T18:56:23.375011', 'gensim': '4.3.2', 'python': '3.9.18 (main, Sep 11 2023, 08:25:10) \\n[Clang 14.0.6 ]', 'platform': 'macOS-14.3.1-arm64-arm-64bit', 'event': 'created'}\n"
          ]
        }
      ],
      "source": [
        "model = gensim.models.Word2Vec(sentences, min_count=10)"
      ]
    },
    {
      "cell_type": "markdown",
      "metadata": {},
      "source": [
        "## vector_size\n",
        "\n",
        "`vector_size` is the number of dimensions (N) of the N-dimensional space that\n",
        "gensim Word2Vec maps the words onto.\n",
        "\n",
        "Bigger size values require more training data, but can lead to better (more\n",
        "accurate) models. Reasonable values are in the tens to hundreds.\n"
      ]
    },
    {
      "cell_type": "code",
      "execution_count": 16,
      "metadata": {
        "collapsed": false
      },
      "outputs": [
        {
          "name": "stderr",
          "output_type": "stream",
          "text": [
            "2024-03-18 18:56:23,381 : INFO : collecting all words and their counts\n",
            "2024-03-18 18:56:23,383 : INFO : PROGRESS: at sentence #0, processed 0 words, keeping 0 word types\n",
            "2024-03-18 18:56:23,430 : INFO : collected 6981 word types from a corpus of 58152 raw words and 300 sentences\n",
            "2024-03-18 18:56:23,431 : INFO : Creating a fresh vocabulary\n",
            "2024-03-18 18:56:23,436 : INFO : Word2Vec lifecycle event {'msg': 'effective_min_count=5 retains 1750 unique words (25.07% of original 6981, drops 5231)', 'datetime': '2024-03-18T18:56:23.436083', 'gensim': '4.3.2', 'python': '3.9.18 (main, Sep 11 2023, 08:25:10) \\n[Clang 14.0.6 ]', 'platform': 'macOS-14.3.1-arm64-arm-64bit', 'event': 'prepare_vocab'}\n",
            "2024-03-18 18:56:23,437 : INFO : Word2Vec lifecycle event {'msg': 'effective_min_count=5 leaves 49335 word corpus (84.84% of original 58152, drops 8817)', 'datetime': '2024-03-18T18:56:23.437000', 'gensim': '4.3.2', 'python': '3.9.18 (main, Sep 11 2023, 08:25:10) \\n[Clang 14.0.6 ]', 'platform': 'macOS-14.3.1-arm64-arm-64bit', 'event': 'prepare_vocab'}\n",
            "2024-03-18 18:56:23,451 : INFO : deleting the raw counts dictionary of 6981 items\n",
            "2024-03-18 18:56:23,453 : INFO : sample=0.001 downsamples 51 most-common words\n",
            "2024-03-18 18:56:23,454 : INFO : Word2Vec lifecycle event {'msg': 'downsampling leaves estimated 35935.33721568072 word corpus (72.8%% of prior 49335)', 'datetime': '2024-03-18T18:56:23.454328', 'gensim': '4.3.2', 'python': '3.9.18 (main, Sep 11 2023, 08:25:10) \\n[Clang 14.0.6 ]', 'platform': 'macOS-14.3.1-arm64-arm-64bit', 'event': 'prepare_vocab'}\n",
            "2024-03-18 18:56:23,464 : INFO : estimated required memory for 1750 words and 200 dimensions: 3675000 bytes\n",
            "2024-03-18 18:56:23,465 : INFO : resetting layer weights\n",
            "2024-03-18 18:56:23,471 : INFO : Word2Vec lifecycle event {'update': False, 'trim_rule': 'None', 'datetime': '2024-03-18T18:56:23.471566', 'gensim': '4.3.2', 'python': '3.9.18 (main, Sep 11 2023, 08:25:10) \\n[Clang 14.0.6 ]', 'platform': 'macOS-14.3.1-arm64-arm-64bit', 'event': 'build_vocab'}\n",
            "2024-03-18 18:56:23,472 : INFO : Word2Vec lifecycle event {'msg': 'training model with 3 workers on 1750 vocabulary and 200 features, using sg=0 hs=0 sample=0.001 negative=5 window=5 shrink_windows=True', 'datetime': '2024-03-18T18:56:23.472192', 'gensim': '4.3.2', 'python': '3.9.18 (main, Sep 11 2023, 08:25:10) \\n[Clang 14.0.6 ]', 'platform': 'macOS-14.3.1-arm64-arm-64bit', 'event': 'train'}\n",
            "2024-03-18 18:56:23,544 : INFO : EPOCH 0: training on 58152 raw words (35900 effective words) took 0.1s, 508848 effective words/s\n",
            "2024-03-18 18:56:23,600 : INFO : EPOCH 1: training on 58152 raw words (36008 effective words) took 0.1s, 661623 effective words/s\n",
            "2024-03-18 18:56:23,666 : INFO : EPOCH 2: training on 58152 raw words (35967 effective words) took 0.1s, 575148 effective words/s\n",
            "2024-03-18 18:56:23,723 : INFO : EPOCH 3: training on 58152 raw words (35855 effective words) took 0.1s, 655540 effective words/s\n",
            "2024-03-18 18:56:23,781 : INFO : EPOCH 4: training on 58152 raw words (35895 effective words) took 0.1s, 623537 effective words/s\n",
            "2024-03-18 18:56:23,782 : INFO : Word2Vec lifecycle event {'msg': 'training on 290760 raw words (179625 effective words) took 0.3s, 580248 effective words/s', 'datetime': '2024-03-18T18:56:23.782088', 'gensim': '4.3.2', 'python': '3.9.18 (main, Sep 11 2023, 08:25:10) \\n[Clang 14.0.6 ]', 'platform': 'macOS-14.3.1-arm64-arm-64bit', 'event': 'train'}\n",
            "2024-03-18 18:56:23,782 : INFO : Word2Vec lifecycle event {'params': 'Word2Vec<vocab=1750, vector_size=200, alpha=0.025>', 'datetime': '2024-03-18T18:56:23.782348', 'gensim': '4.3.2', 'python': '3.9.18 (main, Sep 11 2023, 08:25:10) \\n[Clang 14.0.6 ]', 'platform': 'macOS-14.3.1-arm64-arm-64bit', 'event': 'created'}\n"
          ]
        }
      ],
      "source": [
        "# The default value of vector_size is 100.\n",
        "model = gensim.models.Word2Vec(sentences, vector_size=200)"
      ]
    },
    {
      "cell_type": "markdown",
      "metadata": {},
      "source": [
        "## workers\n",
        "\n",
        "`workers` , the last of the major parameters (full list `here\n",
        "<http://radimrehurek.com/gensim/models/word2vec.html#gensim.models.word2vec.Word2Vec>`\\_)\n",
        "is for training parallelization, to speed up training:\n"
      ]
    },
    {
      "cell_type": "code",
      "execution_count": 17,
      "metadata": {
        "collapsed": false
      },
      "outputs": [
        {
          "name": "stderr",
          "output_type": "stream",
          "text": [
            "2024-03-18 18:56:23,789 : INFO : collecting all words and their counts\n",
            "2024-03-18 18:56:23,791 : INFO : PROGRESS: at sentence #0, processed 0 words, keeping 0 word types\n",
            "2024-03-18 18:56:23,847 : INFO : collected 6981 word types from a corpus of 58152 raw words and 300 sentences\n",
            "2024-03-18 18:56:23,848 : INFO : Creating a fresh vocabulary\n",
            "2024-03-18 18:56:23,851 : INFO : Word2Vec lifecycle event {'msg': 'effective_min_count=5 retains 1750 unique words (25.07% of original 6981, drops 5231)', 'datetime': '2024-03-18T18:56:23.851308', 'gensim': '4.3.2', 'python': '3.9.18 (main, Sep 11 2023, 08:25:10) \\n[Clang 14.0.6 ]', 'platform': 'macOS-14.3.1-arm64-arm-64bit', 'event': 'prepare_vocab'}\n",
            "2024-03-18 18:56:23,851 : INFO : Word2Vec lifecycle event {'msg': 'effective_min_count=5 leaves 49335 word corpus (84.84% of original 58152, drops 8817)', 'datetime': '2024-03-18T18:56:23.851817', 'gensim': '4.3.2', 'python': '3.9.18 (main, Sep 11 2023, 08:25:10) \\n[Clang 14.0.6 ]', 'platform': 'macOS-14.3.1-arm64-arm-64bit', 'event': 'prepare_vocab'}\n",
            "2024-03-18 18:56:23,856 : INFO : deleting the raw counts dictionary of 6981 items\n",
            "2024-03-18 18:56:23,856 : INFO : sample=0.001 downsamples 51 most-common words\n",
            "2024-03-18 18:56:23,856 : INFO : Word2Vec lifecycle event {'msg': 'downsampling leaves estimated 35935.33721568072 word corpus (72.8%% of prior 49335)', 'datetime': '2024-03-18T18:56:23.856847', 'gensim': '4.3.2', 'python': '3.9.18 (main, Sep 11 2023, 08:25:10) \\n[Clang 14.0.6 ]', 'platform': 'macOS-14.3.1-arm64-arm-64bit', 'event': 'prepare_vocab'}\n",
            "2024-03-18 18:56:23,862 : INFO : estimated required memory for 1750 words and 100 dimensions: 2275000 bytes\n",
            "2024-03-18 18:56:23,862 : INFO : resetting layer weights\n",
            "2024-03-18 18:56:23,863 : INFO : Word2Vec lifecycle event {'update': False, 'trim_rule': 'None', 'datetime': '2024-03-18T18:56:23.863785', 'gensim': '4.3.2', 'python': '3.9.18 (main, Sep 11 2023, 08:25:10) \\n[Clang 14.0.6 ]', 'platform': 'macOS-14.3.1-arm64-arm-64bit', 'event': 'build_vocab'}\n",
            "2024-03-18 18:56:23,864 : INFO : Word2Vec lifecycle event {'msg': 'training model with 4 workers on 1750 vocabulary and 100 features, using sg=0 hs=0 sample=0.001 negative=5 window=5 shrink_windows=True', 'datetime': '2024-03-18T18:56:23.864021', 'gensim': '4.3.2', 'python': '3.9.18 (main, Sep 11 2023, 08:25:10) \\n[Clang 14.0.6 ]', 'platform': 'macOS-14.3.1-arm64-arm-64bit', 'event': 'train'}\n",
            "2024-03-18 18:56:23,915 : INFO : EPOCH 0: training on 58152 raw words (35883 effective words) took 0.1s, 716320 effective words/s\n",
            "2024-03-18 18:56:23,961 : INFO : EPOCH 1: training on 58152 raw words (35909 effective words) took 0.0s, 790539 effective words/s\n",
            "2024-03-18 18:56:24,013 : INFO : EPOCH 2: training on 58152 raw words (35944 effective words) took 0.1s, 705713 effective words/s\n",
            "2024-03-18 18:56:24,062 : INFO : EPOCH 3: training on 58152 raw words (35803 effective words) took 0.0s, 750058 effective words/s\n",
            "2024-03-18 18:56:24,107 : INFO : EPOCH 4: training on 58152 raw words (35890 effective words) took 0.0s, 815230 effective words/s\n",
            "2024-03-18 18:56:24,107 : INFO : Word2Vec lifecycle event {'msg': 'training on 290760 raw words (179429 effective words) took 0.2s, 736797 effective words/s', 'datetime': '2024-03-18T18:56:24.107731', 'gensim': '4.3.2', 'python': '3.9.18 (main, Sep 11 2023, 08:25:10) \\n[Clang 14.0.6 ]', 'platform': 'macOS-14.3.1-arm64-arm-64bit', 'event': 'train'}\n",
            "2024-03-18 18:56:24,107 : INFO : Word2Vec lifecycle event {'params': 'Word2Vec<vocab=1750, vector_size=100, alpha=0.025>', 'datetime': '2024-03-18T18:56:24.107985', 'gensim': '4.3.2', 'python': '3.9.18 (main, Sep 11 2023, 08:25:10) \\n[Clang 14.0.6 ]', 'platform': 'macOS-14.3.1-arm64-arm-64bit', 'event': 'created'}\n"
          ]
        }
      ],
      "source": [
        "# default value of workers=3 (tutorial says 1...)\n",
        "model = gensim.models.Word2Vec(sentences, workers=4)"
      ]
    },
    {
      "cell_type": "markdown",
      "metadata": {},
      "source": [
        "The `workers` parameter only has an effect if you have `Cython\n",
        "<http://cython.org/>`_ installed. Without Cython, you’ll only be able to use\n",
        "one core because of the `GIL\n",
        "<https://wiki.python.org/moin/GlobalInterpreterLock>`_ (and `word2vec`\n",
        "training will be `miserably slow\n",
        "<http://rare-technologies.com/word2vec-in-python-part-two-optimizing/>`\\_\\ ).\n"
      ]
    },
    {
      "cell_type": "markdown",
      "metadata": {},
      "source": [
        "## Memory\n",
        "\n",
        "At its core, `word2vec` model parameters are stored as matrices (NumPy\n",
        "arrays). Each array is **#vocabulary** (controlled by the `min_count` parameter)\n",
        "times **vector size** (the `vector_size` parameter) of floats (single precision aka 4 bytes).\n",
        "\n",
        "Three such matrices are held in RAM (work is underway to reduce that number\n",
        "to two, or even one). So if your input contains 100,000 unique words, and you\n",
        "asked for layer `vector_size=200`\\ , the model will require approx.\n",
        "`100,000*200*4*3 bytes = ~229MB`.\n",
        "\n",
        "There’s a little extra memory needed for storing the vocabulary tree (100,000 words would\n",
        "take a few megabytes), but unless your words are extremely loooong strings, memory\n",
        "footprint will be dominated by the three matrices above.\n"
      ]
    },
    {
      "cell_type": "markdown",
      "metadata": {},
      "source": [
        "## Evaluating\n",
        "\n",
        "`Word2Vec` training is an unsupervised task, there’s no good way to\n",
        "objectively evaluate the result. Evaluation depends on your end application.\n",
        "\n",
        "Google has released their testing set of about 20,000 syntactic and semantic\n",
        "test examples, following the “A is to B as C is to D” task. It is provided in\n",
        "the 'datasets' folder.\n",
        "\n",
        "For example a syntactic analogy of comparative type is `bad:worse;good:?`.\n",
        "There are total of 9 types of syntactic comparisons in the dataset like\n",
        "plural nouns and nouns of opposite meaning.\n",
        "\n",
        "The semantic questions contain five types of semantic analogies, such as\n",
        "capital cities (`Paris:France;Tokyo:?`) or family members\n",
        "(`brother:sister;dad:?`).\n"
      ]
    },
    {
      "cell_type": "markdown",
      "metadata": {},
      "source": [
        "Gensim supports the same evaluation set, in exactly the same format:\n"
      ]
    },
    {
      "cell_type": "code",
      "execution_count": 18,
      "metadata": {
        "collapsed": false
      },
      "outputs": [
        {
          "name": "stderr",
          "output_type": "stream",
          "text": [
            "2024-03-18 18:56:24,115 : INFO : Evaluating word analogies for top 300000 words in the model on /Users/mikolaj/anaconda3/envs/py39/lib/python3.9/site-packages/gensim/test/test_data/questions-words.txt\n",
            "2024-03-18 18:56:24,150 : INFO : capital-common-countries: 0.0% (0/6)\n",
            "2024-03-18 18:56:24,196 : INFO : capital-world: 0.0% (0/2)\n",
            "2024-03-18 18:56:24,233 : INFO : family: 0.0% (0/6)\n",
            "2024-03-18 18:56:24,265 : INFO : gram3-comparative: 0.0% (0/20)\n",
            "2024-03-18 18:56:24,322 : INFO : gram4-superlative: 0.0% (0/12)\n",
            "2024-03-18 18:56:24,334 : INFO : gram5-present-participle: 0.0% (0/20)\n",
            "2024-03-18 18:56:24,354 : INFO : gram6-nationality-adjective: 0.0% (0/30)\n",
            "2024-03-18 18:56:24,382 : INFO : gram7-past-tense: 0.0% (0/20)\n",
            "2024-03-18 18:56:24,500 : INFO : gram8-plural: 0.0% (0/30)\n",
            "2024-03-18 18:56:24,506 : INFO : Quadruplets with out-of-vocabulary words: 99.3%\n",
            "2024-03-18 18:56:24,508 : INFO : NB: analogies containing OOV words were skipped from evaluation! To change this behavior, use \"dummy4unknown=True\"\n",
            "2024-03-18 18:56:24,509 : INFO : Total accuracy: 0.0% (0/146)\n"
          ]
        },
        {
          "data": {
            "text/plain": [
              "(0.0,\n",
              " [{'section': 'capital-common-countries',\n",
              "   'correct': [],\n",
              "   'incorrect': [('CANBERRA', 'AUSTRALIA', 'KABUL', 'AFGHANISTAN'),\n",
              "    ('CANBERRA', 'AUSTRALIA', 'PARIS', 'FRANCE'),\n",
              "    ('KABUL', 'AFGHANISTAN', 'PARIS', 'FRANCE'),\n",
              "    ('KABUL', 'AFGHANISTAN', 'CANBERRA', 'AUSTRALIA'),\n",
              "    ('PARIS', 'FRANCE', 'CANBERRA', 'AUSTRALIA'),\n",
              "    ('PARIS', 'FRANCE', 'KABUL', 'AFGHANISTAN')]},\n",
              "  {'section': 'capital-world',\n",
              "   'correct': [],\n",
              "   'incorrect': [('CANBERRA', 'AUSTRALIA', 'KABUL', 'AFGHANISTAN'),\n",
              "    ('KABUL', 'AFGHANISTAN', 'PARIS', 'FRANCE')]},\n",
              "  {'section': 'currency', 'correct': [], 'incorrect': []},\n",
              "  {'section': 'city-in-state', 'correct': [], 'incorrect': []},\n",
              "  {'section': 'family',\n",
              "   'correct': [],\n",
              "   'incorrect': [('HE', 'SHE', 'HIS', 'HER'),\n",
              "    ('HE', 'SHE', 'MAN', 'WOMAN'),\n",
              "    ('HIS', 'HER', 'MAN', 'WOMAN'),\n",
              "    ('HIS', 'HER', 'HE', 'SHE'),\n",
              "    ('MAN', 'WOMAN', 'HE', 'SHE'),\n",
              "    ('MAN', 'WOMAN', 'HIS', 'HER')]},\n",
              "  {'section': 'gram1-adjective-to-adverb', 'correct': [], 'incorrect': []},\n",
              "  {'section': 'gram2-opposite', 'correct': [], 'incorrect': []},\n",
              "  {'section': 'gram3-comparative',\n",
              "   'correct': [],\n",
              "   'incorrect': [('GOOD', 'BETTER', 'GREAT', 'GREATER'),\n",
              "    ('GOOD', 'BETTER', 'LONG', 'LONGER'),\n",
              "    ('GOOD', 'BETTER', 'LOW', 'LOWER'),\n",
              "    ('GOOD', 'BETTER', 'SMALL', 'SMALLER'),\n",
              "    ('GREAT', 'GREATER', 'LONG', 'LONGER'),\n",
              "    ('GREAT', 'GREATER', 'LOW', 'LOWER'),\n",
              "    ('GREAT', 'GREATER', 'SMALL', 'SMALLER'),\n",
              "    ('GREAT', 'GREATER', 'GOOD', 'BETTER'),\n",
              "    ('LONG', 'LONGER', 'LOW', 'LOWER'),\n",
              "    ('LONG', 'LONGER', 'SMALL', 'SMALLER'),\n",
              "    ('LONG', 'LONGER', 'GOOD', 'BETTER'),\n",
              "    ('LONG', 'LONGER', 'GREAT', 'GREATER'),\n",
              "    ('LOW', 'LOWER', 'SMALL', 'SMALLER'),\n",
              "    ('LOW', 'LOWER', 'GOOD', 'BETTER'),\n",
              "    ('LOW', 'LOWER', 'GREAT', 'GREATER'),\n",
              "    ('LOW', 'LOWER', 'LONG', 'LONGER'),\n",
              "    ('SMALL', 'SMALLER', 'GOOD', 'BETTER'),\n",
              "    ('SMALL', 'SMALLER', 'GREAT', 'GREATER'),\n",
              "    ('SMALL', 'SMALLER', 'LONG', 'LONGER'),\n",
              "    ('SMALL', 'SMALLER', 'LOW', 'LOWER')]},\n",
              "  {'section': 'gram4-superlative',\n",
              "   'correct': [],\n",
              "   'incorrect': [('BIG', 'BIGGEST', 'GOOD', 'BEST'),\n",
              "    ('BIG', 'BIGGEST', 'GREAT', 'GREATEST'),\n",
              "    ('BIG', 'BIGGEST', 'LARGE', 'LARGEST'),\n",
              "    ('GOOD', 'BEST', 'GREAT', 'GREATEST'),\n",
              "    ('GOOD', 'BEST', 'LARGE', 'LARGEST'),\n",
              "    ('GOOD', 'BEST', 'BIG', 'BIGGEST'),\n",
              "    ('GREAT', 'GREATEST', 'LARGE', 'LARGEST'),\n",
              "    ('GREAT', 'GREATEST', 'BIG', 'BIGGEST'),\n",
              "    ('GREAT', 'GREATEST', 'GOOD', 'BEST'),\n",
              "    ('LARGE', 'LARGEST', 'BIG', 'BIGGEST'),\n",
              "    ('LARGE', 'LARGEST', 'GOOD', 'BEST'),\n",
              "    ('LARGE', 'LARGEST', 'GREAT', 'GREATEST')]},\n",
              "  {'section': 'gram5-present-participle',\n",
              "   'correct': [],\n",
              "   'incorrect': [('GO', 'GOING', 'LOOK', 'LOOKING'),\n",
              "    ('GO', 'GOING', 'PLAY', 'PLAYING'),\n",
              "    ('GO', 'GOING', 'RUN', 'RUNNING'),\n",
              "    ('GO', 'GOING', 'SAY', 'SAYING'),\n",
              "    ('LOOK', 'LOOKING', 'PLAY', 'PLAYING'),\n",
              "    ('LOOK', 'LOOKING', 'RUN', 'RUNNING'),\n",
              "    ('LOOK', 'LOOKING', 'SAY', 'SAYING'),\n",
              "    ('LOOK', 'LOOKING', 'GO', 'GOING'),\n",
              "    ('PLAY', 'PLAYING', 'RUN', 'RUNNING'),\n",
              "    ('PLAY', 'PLAYING', 'SAY', 'SAYING'),\n",
              "    ('PLAY', 'PLAYING', 'GO', 'GOING'),\n",
              "    ('PLAY', 'PLAYING', 'LOOK', 'LOOKING'),\n",
              "    ('RUN', 'RUNNING', 'SAY', 'SAYING'),\n",
              "    ('RUN', 'RUNNING', 'GO', 'GOING'),\n",
              "    ('RUN', 'RUNNING', 'LOOK', 'LOOKING'),\n",
              "    ('RUN', 'RUNNING', 'PLAY', 'PLAYING'),\n",
              "    ('SAY', 'SAYING', 'GO', 'GOING'),\n",
              "    ('SAY', 'SAYING', 'LOOK', 'LOOKING'),\n",
              "    ('SAY', 'SAYING', 'PLAY', 'PLAYING'),\n",
              "    ('SAY', 'SAYING', 'RUN', 'RUNNING')]},\n",
              "  {'section': 'gram6-nationality-adjective',\n",
              "   'correct': [],\n",
              "   'incorrect': [('AUSTRALIA', 'AUSTRALIAN', 'FRANCE', 'FRENCH'),\n",
              "    ('AUSTRALIA', 'AUSTRALIAN', 'INDIA', 'INDIAN'),\n",
              "    ('AUSTRALIA', 'AUSTRALIAN', 'ISRAEL', 'ISRAELI'),\n",
              "    ('AUSTRALIA', 'AUSTRALIAN', 'JAPAN', 'JAPANESE'),\n",
              "    ('AUSTRALIA', 'AUSTRALIAN', 'SWITZERLAND', 'SWISS'),\n",
              "    ('FRANCE', 'FRENCH', 'INDIA', 'INDIAN'),\n",
              "    ('FRANCE', 'FRENCH', 'ISRAEL', 'ISRAELI'),\n",
              "    ('FRANCE', 'FRENCH', 'JAPAN', 'JAPANESE'),\n",
              "    ('FRANCE', 'FRENCH', 'SWITZERLAND', 'SWISS'),\n",
              "    ('FRANCE', 'FRENCH', 'AUSTRALIA', 'AUSTRALIAN'),\n",
              "    ('INDIA', 'INDIAN', 'ISRAEL', 'ISRAELI'),\n",
              "    ('INDIA', 'INDIAN', 'JAPAN', 'JAPANESE'),\n",
              "    ('INDIA', 'INDIAN', 'SWITZERLAND', 'SWISS'),\n",
              "    ('INDIA', 'INDIAN', 'AUSTRALIA', 'AUSTRALIAN'),\n",
              "    ('INDIA', 'INDIAN', 'FRANCE', 'FRENCH'),\n",
              "    ('ISRAEL', 'ISRAELI', 'JAPAN', 'JAPANESE'),\n",
              "    ('ISRAEL', 'ISRAELI', 'SWITZERLAND', 'SWISS'),\n",
              "    ('ISRAEL', 'ISRAELI', 'AUSTRALIA', 'AUSTRALIAN'),\n",
              "    ('ISRAEL', 'ISRAELI', 'FRANCE', 'FRENCH'),\n",
              "    ('ISRAEL', 'ISRAELI', 'INDIA', 'INDIAN'),\n",
              "    ('JAPAN', 'JAPANESE', 'SWITZERLAND', 'SWISS'),\n",
              "    ('JAPAN', 'JAPANESE', 'AUSTRALIA', 'AUSTRALIAN'),\n",
              "    ('JAPAN', 'JAPANESE', 'FRANCE', 'FRENCH'),\n",
              "    ('JAPAN', 'JAPANESE', 'INDIA', 'INDIAN'),\n",
              "    ('JAPAN', 'JAPANESE', 'ISRAEL', 'ISRAELI'),\n",
              "    ('SWITZERLAND', 'SWISS', 'AUSTRALIA', 'AUSTRALIAN'),\n",
              "    ('SWITZERLAND', 'SWISS', 'FRANCE', 'FRENCH'),\n",
              "    ('SWITZERLAND', 'SWISS', 'INDIA', 'INDIAN'),\n",
              "    ('SWITZERLAND', 'SWISS', 'ISRAEL', 'ISRAELI'),\n",
              "    ('SWITZERLAND', 'SWISS', 'JAPAN', 'JAPANESE')]},\n",
              "  {'section': 'gram7-past-tense',\n",
              "   'correct': [],\n",
              "   'incorrect': [('GOING', 'WENT', 'PAYING', 'PAID'),\n",
              "    ('GOING', 'WENT', 'PLAYING', 'PLAYED'),\n",
              "    ('GOING', 'WENT', 'SAYING', 'SAID'),\n",
              "    ('GOING', 'WENT', 'TAKING', 'TOOK'),\n",
              "    ('PAYING', 'PAID', 'PLAYING', 'PLAYED'),\n",
              "    ('PAYING', 'PAID', 'SAYING', 'SAID'),\n",
              "    ('PAYING', 'PAID', 'TAKING', 'TOOK'),\n",
              "    ('PAYING', 'PAID', 'GOING', 'WENT'),\n",
              "    ('PLAYING', 'PLAYED', 'SAYING', 'SAID'),\n",
              "    ('PLAYING', 'PLAYED', 'TAKING', 'TOOK'),\n",
              "    ('PLAYING', 'PLAYED', 'GOING', 'WENT'),\n",
              "    ('PLAYING', 'PLAYED', 'PAYING', 'PAID'),\n",
              "    ('SAYING', 'SAID', 'TAKING', 'TOOK'),\n",
              "    ('SAYING', 'SAID', 'GOING', 'WENT'),\n",
              "    ('SAYING', 'SAID', 'PAYING', 'PAID'),\n",
              "    ('SAYING', 'SAID', 'PLAYING', 'PLAYED'),\n",
              "    ('TAKING', 'TOOK', 'GOING', 'WENT'),\n",
              "    ('TAKING', 'TOOK', 'PAYING', 'PAID'),\n",
              "    ('TAKING', 'TOOK', 'PLAYING', 'PLAYED'),\n",
              "    ('TAKING', 'TOOK', 'SAYING', 'SAID')]},\n",
              "  {'section': 'gram8-plural',\n",
              "   'correct': [],\n",
              "   'incorrect': [('BUILDING', 'BUILDINGS', 'CAR', 'CARS'),\n",
              "    ('BUILDING', 'BUILDINGS', 'CHILD', 'CHILDREN'),\n",
              "    ('BUILDING', 'BUILDINGS', 'MAN', 'MEN'),\n",
              "    ('BUILDING', 'BUILDINGS', 'ROAD', 'ROADS'),\n",
              "    ('BUILDING', 'BUILDINGS', 'WOMAN', 'WOMEN'),\n",
              "    ('CAR', 'CARS', 'CHILD', 'CHILDREN'),\n",
              "    ('CAR', 'CARS', 'MAN', 'MEN'),\n",
              "    ('CAR', 'CARS', 'ROAD', 'ROADS'),\n",
              "    ('CAR', 'CARS', 'WOMAN', 'WOMEN'),\n",
              "    ('CAR', 'CARS', 'BUILDING', 'BUILDINGS'),\n",
              "    ('CHILD', 'CHILDREN', 'MAN', 'MEN'),\n",
              "    ('CHILD', 'CHILDREN', 'ROAD', 'ROADS'),\n",
              "    ('CHILD', 'CHILDREN', 'WOMAN', 'WOMEN'),\n",
              "    ('CHILD', 'CHILDREN', 'BUILDING', 'BUILDINGS'),\n",
              "    ('CHILD', 'CHILDREN', 'CAR', 'CARS'),\n",
              "    ('MAN', 'MEN', 'ROAD', 'ROADS'),\n",
              "    ('MAN', 'MEN', 'WOMAN', 'WOMEN'),\n",
              "    ('MAN', 'MEN', 'BUILDING', 'BUILDINGS'),\n",
              "    ('MAN', 'MEN', 'CAR', 'CARS'),\n",
              "    ('MAN', 'MEN', 'CHILD', 'CHILDREN'),\n",
              "    ('ROAD', 'ROADS', 'WOMAN', 'WOMEN'),\n",
              "    ('ROAD', 'ROADS', 'BUILDING', 'BUILDINGS'),\n",
              "    ('ROAD', 'ROADS', 'CAR', 'CARS'),\n",
              "    ('ROAD', 'ROADS', 'CHILD', 'CHILDREN'),\n",
              "    ('ROAD', 'ROADS', 'MAN', 'MEN'),\n",
              "    ('WOMAN', 'WOMEN', 'BUILDING', 'BUILDINGS'),\n",
              "    ('WOMAN', 'WOMEN', 'CAR', 'CARS'),\n",
              "    ('WOMAN', 'WOMEN', 'CHILD', 'CHILDREN'),\n",
              "    ('WOMAN', 'WOMEN', 'MAN', 'MEN'),\n",
              "    ('WOMAN', 'WOMEN', 'ROAD', 'ROADS')]},\n",
              "  {'section': 'gram9-plural-verbs', 'correct': [], 'incorrect': []},\n",
              "  {'section': 'Total accuracy',\n",
              "   'correct': [],\n",
              "   'incorrect': [('CANBERRA', 'AUSTRALIA', 'KABUL', 'AFGHANISTAN'),\n",
              "    ('CANBERRA', 'AUSTRALIA', 'PARIS', 'FRANCE'),\n",
              "    ('KABUL', 'AFGHANISTAN', 'PARIS', 'FRANCE'),\n",
              "    ('KABUL', 'AFGHANISTAN', 'CANBERRA', 'AUSTRALIA'),\n",
              "    ('PARIS', 'FRANCE', 'CANBERRA', 'AUSTRALIA'),\n",
              "    ('PARIS', 'FRANCE', 'KABUL', 'AFGHANISTAN'),\n",
              "    ('CANBERRA', 'AUSTRALIA', 'KABUL', 'AFGHANISTAN'),\n",
              "    ('KABUL', 'AFGHANISTAN', 'PARIS', 'FRANCE'),\n",
              "    ('HE', 'SHE', 'HIS', 'HER'),\n",
              "    ('HE', 'SHE', 'MAN', 'WOMAN'),\n",
              "    ('HIS', 'HER', 'MAN', 'WOMAN'),\n",
              "    ('HIS', 'HER', 'HE', 'SHE'),\n",
              "    ('MAN', 'WOMAN', 'HE', 'SHE'),\n",
              "    ('MAN', 'WOMAN', 'HIS', 'HER'),\n",
              "    ('GOOD', 'BETTER', 'GREAT', 'GREATER'),\n",
              "    ('GOOD', 'BETTER', 'LONG', 'LONGER'),\n",
              "    ('GOOD', 'BETTER', 'LOW', 'LOWER'),\n",
              "    ('GOOD', 'BETTER', 'SMALL', 'SMALLER'),\n",
              "    ('GREAT', 'GREATER', 'LONG', 'LONGER'),\n",
              "    ('GREAT', 'GREATER', 'LOW', 'LOWER'),\n",
              "    ('GREAT', 'GREATER', 'SMALL', 'SMALLER'),\n",
              "    ('GREAT', 'GREATER', 'GOOD', 'BETTER'),\n",
              "    ('LONG', 'LONGER', 'LOW', 'LOWER'),\n",
              "    ('LONG', 'LONGER', 'SMALL', 'SMALLER'),\n",
              "    ('LONG', 'LONGER', 'GOOD', 'BETTER'),\n",
              "    ('LONG', 'LONGER', 'GREAT', 'GREATER'),\n",
              "    ('LOW', 'LOWER', 'SMALL', 'SMALLER'),\n",
              "    ('LOW', 'LOWER', 'GOOD', 'BETTER'),\n",
              "    ('LOW', 'LOWER', 'GREAT', 'GREATER'),\n",
              "    ('LOW', 'LOWER', 'LONG', 'LONGER'),\n",
              "    ('SMALL', 'SMALLER', 'GOOD', 'BETTER'),\n",
              "    ('SMALL', 'SMALLER', 'GREAT', 'GREATER'),\n",
              "    ('SMALL', 'SMALLER', 'LONG', 'LONGER'),\n",
              "    ('SMALL', 'SMALLER', 'LOW', 'LOWER'),\n",
              "    ('BIG', 'BIGGEST', 'GOOD', 'BEST'),\n",
              "    ('BIG', 'BIGGEST', 'GREAT', 'GREATEST'),\n",
              "    ('BIG', 'BIGGEST', 'LARGE', 'LARGEST'),\n",
              "    ('GOOD', 'BEST', 'GREAT', 'GREATEST'),\n",
              "    ('GOOD', 'BEST', 'LARGE', 'LARGEST'),\n",
              "    ('GOOD', 'BEST', 'BIG', 'BIGGEST'),\n",
              "    ('GREAT', 'GREATEST', 'LARGE', 'LARGEST'),\n",
              "    ('GREAT', 'GREATEST', 'BIG', 'BIGGEST'),\n",
              "    ('GREAT', 'GREATEST', 'GOOD', 'BEST'),\n",
              "    ('LARGE', 'LARGEST', 'BIG', 'BIGGEST'),\n",
              "    ('LARGE', 'LARGEST', 'GOOD', 'BEST'),\n",
              "    ('LARGE', 'LARGEST', 'GREAT', 'GREATEST'),\n",
              "    ('GO', 'GOING', 'LOOK', 'LOOKING'),\n",
              "    ('GO', 'GOING', 'PLAY', 'PLAYING'),\n",
              "    ('GO', 'GOING', 'RUN', 'RUNNING'),\n",
              "    ('GO', 'GOING', 'SAY', 'SAYING'),\n",
              "    ('LOOK', 'LOOKING', 'PLAY', 'PLAYING'),\n",
              "    ('LOOK', 'LOOKING', 'RUN', 'RUNNING'),\n",
              "    ('LOOK', 'LOOKING', 'SAY', 'SAYING'),\n",
              "    ('LOOK', 'LOOKING', 'GO', 'GOING'),\n",
              "    ('PLAY', 'PLAYING', 'RUN', 'RUNNING'),\n",
              "    ('PLAY', 'PLAYING', 'SAY', 'SAYING'),\n",
              "    ('PLAY', 'PLAYING', 'GO', 'GOING'),\n",
              "    ('PLAY', 'PLAYING', 'LOOK', 'LOOKING'),\n",
              "    ('RUN', 'RUNNING', 'SAY', 'SAYING'),\n",
              "    ('RUN', 'RUNNING', 'GO', 'GOING'),\n",
              "    ('RUN', 'RUNNING', 'LOOK', 'LOOKING'),\n",
              "    ('RUN', 'RUNNING', 'PLAY', 'PLAYING'),\n",
              "    ('SAY', 'SAYING', 'GO', 'GOING'),\n",
              "    ('SAY', 'SAYING', 'LOOK', 'LOOKING'),\n",
              "    ('SAY', 'SAYING', 'PLAY', 'PLAYING'),\n",
              "    ('SAY', 'SAYING', 'RUN', 'RUNNING'),\n",
              "    ('AUSTRALIA', 'AUSTRALIAN', 'FRANCE', 'FRENCH'),\n",
              "    ('AUSTRALIA', 'AUSTRALIAN', 'INDIA', 'INDIAN'),\n",
              "    ('AUSTRALIA', 'AUSTRALIAN', 'ISRAEL', 'ISRAELI'),\n",
              "    ('AUSTRALIA', 'AUSTRALIAN', 'JAPAN', 'JAPANESE'),\n",
              "    ('AUSTRALIA', 'AUSTRALIAN', 'SWITZERLAND', 'SWISS'),\n",
              "    ('FRANCE', 'FRENCH', 'INDIA', 'INDIAN'),\n",
              "    ('FRANCE', 'FRENCH', 'ISRAEL', 'ISRAELI'),\n",
              "    ('FRANCE', 'FRENCH', 'JAPAN', 'JAPANESE'),\n",
              "    ('FRANCE', 'FRENCH', 'SWITZERLAND', 'SWISS'),\n",
              "    ('FRANCE', 'FRENCH', 'AUSTRALIA', 'AUSTRALIAN'),\n",
              "    ('INDIA', 'INDIAN', 'ISRAEL', 'ISRAELI'),\n",
              "    ('INDIA', 'INDIAN', 'JAPAN', 'JAPANESE'),\n",
              "    ('INDIA', 'INDIAN', 'SWITZERLAND', 'SWISS'),\n",
              "    ('INDIA', 'INDIAN', 'AUSTRALIA', 'AUSTRALIAN'),\n",
              "    ('INDIA', 'INDIAN', 'FRANCE', 'FRENCH'),\n",
              "    ('ISRAEL', 'ISRAELI', 'JAPAN', 'JAPANESE'),\n",
              "    ('ISRAEL', 'ISRAELI', 'SWITZERLAND', 'SWISS'),\n",
              "    ('ISRAEL', 'ISRAELI', 'AUSTRALIA', 'AUSTRALIAN'),\n",
              "    ('ISRAEL', 'ISRAELI', 'FRANCE', 'FRENCH'),\n",
              "    ('ISRAEL', 'ISRAELI', 'INDIA', 'INDIAN'),\n",
              "    ('JAPAN', 'JAPANESE', 'SWITZERLAND', 'SWISS'),\n",
              "    ('JAPAN', 'JAPANESE', 'AUSTRALIA', 'AUSTRALIAN'),\n",
              "    ('JAPAN', 'JAPANESE', 'FRANCE', 'FRENCH'),\n",
              "    ('JAPAN', 'JAPANESE', 'INDIA', 'INDIAN'),\n",
              "    ('JAPAN', 'JAPANESE', 'ISRAEL', 'ISRAELI'),\n",
              "    ('SWITZERLAND', 'SWISS', 'AUSTRALIA', 'AUSTRALIAN'),\n",
              "    ('SWITZERLAND', 'SWISS', 'FRANCE', 'FRENCH'),\n",
              "    ('SWITZERLAND', 'SWISS', 'INDIA', 'INDIAN'),\n",
              "    ('SWITZERLAND', 'SWISS', 'ISRAEL', 'ISRAELI'),\n",
              "    ('SWITZERLAND', 'SWISS', 'JAPAN', 'JAPANESE'),\n",
              "    ('GOING', 'WENT', 'PAYING', 'PAID'),\n",
              "    ('GOING', 'WENT', 'PLAYING', 'PLAYED'),\n",
              "    ('GOING', 'WENT', 'SAYING', 'SAID'),\n",
              "    ('GOING', 'WENT', 'TAKING', 'TOOK'),\n",
              "    ('PAYING', 'PAID', 'PLAYING', 'PLAYED'),\n",
              "    ('PAYING', 'PAID', 'SAYING', 'SAID'),\n",
              "    ('PAYING', 'PAID', 'TAKING', 'TOOK'),\n",
              "    ('PAYING', 'PAID', 'GOING', 'WENT'),\n",
              "    ('PLAYING', 'PLAYED', 'SAYING', 'SAID'),\n",
              "    ('PLAYING', 'PLAYED', 'TAKING', 'TOOK'),\n",
              "    ('PLAYING', 'PLAYED', 'GOING', 'WENT'),\n",
              "    ('PLAYING', 'PLAYED', 'PAYING', 'PAID'),\n",
              "    ('SAYING', 'SAID', 'TAKING', 'TOOK'),\n",
              "    ('SAYING', 'SAID', 'GOING', 'WENT'),\n",
              "    ('SAYING', 'SAID', 'PAYING', 'PAID'),\n",
              "    ('SAYING', 'SAID', 'PLAYING', 'PLAYED'),\n",
              "    ('TAKING', 'TOOK', 'GOING', 'WENT'),\n",
              "    ('TAKING', 'TOOK', 'PAYING', 'PAID'),\n",
              "    ('TAKING', 'TOOK', 'PLAYING', 'PLAYED'),\n",
              "    ('TAKING', 'TOOK', 'SAYING', 'SAID'),\n",
              "    ('BUILDING', 'BUILDINGS', 'CAR', 'CARS'),\n",
              "    ('BUILDING', 'BUILDINGS', 'CHILD', 'CHILDREN'),\n",
              "    ('BUILDING', 'BUILDINGS', 'MAN', 'MEN'),\n",
              "    ('BUILDING', 'BUILDINGS', 'ROAD', 'ROADS'),\n",
              "    ('BUILDING', 'BUILDINGS', 'WOMAN', 'WOMEN'),\n",
              "    ('CAR', 'CARS', 'CHILD', 'CHILDREN'),\n",
              "    ('CAR', 'CARS', 'MAN', 'MEN'),\n",
              "    ('CAR', 'CARS', 'ROAD', 'ROADS'),\n",
              "    ('CAR', 'CARS', 'WOMAN', 'WOMEN'),\n",
              "    ('CAR', 'CARS', 'BUILDING', 'BUILDINGS'),\n",
              "    ('CHILD', 'CHILDREN', 'MAN', 'MEN'),\n",
              "    ('CHILD', 'CHILDREN', 'ROAD', 'ROADS'),\n",
              "    ('CHILD', 'CHILDREN', 'WOMAN', 'WOMEN'),\n",
              "    ('CHILD', 'CHILDREN', 'BUILDING', 'BUILDINGS'),\n",
              "    ('CHILD', 'CHILDREN', 'CAR', 'CARS'),\n",
              "    ('MAN', 'MEN', 'ROAD', 'ROADS'),\n",
              "    ('MAN', 'MEN', 'WOMAN', 'WOMEN'),\n",
              "    ('MAN', 'MEN', 'BUILDING', 'BUILDINGS'),\n",
              "    ('MAN', 'MEN', 'CAR', 'CARS'),\n",
              "    ('MAN', 'MEN', 'CHILD', 'CHILDREN'),\n",
              "    ('ROAD', 'ROADS', 'WOMAN', 'WOMEN'),\n",
              "    ('ROAD', 'ROADS', 'BUILDING', 'BUILDINGS'),\n",
              "    ('ROAD', 'ROADS', 'CAR', 'CARS'),\n",
              "    ('ROAD', 'ROADS', 'CHILD', 'CHILDREN'),\n",
              "    ('ROAD', 'ROADS', 'MAN', 'MEN'),\n",
              "    ('WOMAN', 'WOMEN', 'BUILDING', 'BUILDINGS'),\n",
              "    ('WOMAN', 'WOMEN', 'CAR', 'CARS'),\n",
              "    ('WOMAN', 'WOMEN', 'CHILD', 'CHILDREN'),\n",
              "    ('WOMAN', 'WOMEN', 'MAN', 'MEN'),\n",
              "    ('WOMAN', 'WOMEN', 'ROAD', 'ROADS')]}])"
            ]
          },
          "execution_count": 18,
          "metadata": {},
          "output_type": "execute_result"
        }
      ],
      "source": [
        "model.wv.evaluate_word_analogies(datapath(\"questions-words.txt\"))"
      ]
    },
    {
      "cell_type": "markdown",
      "metadata": {},
      "source": [
        "This `evaluate_word_analogies` method takes an `optional parameter\n",
        "<http://radimrehurek.com/gensim/models/keyedvectors.html#gensim.models.keyedvectors.KeyedVectors.evaluate_word_analogies>`\\_\n",
        "`restrict_vocab` which limits which test examples are to be considered.\n"
      ]
    },
    {
      "cell_type": "markdown",
      "metadata": {},
      "source": [
        "In the December 2016 release of Gensim we added a better way to evaluate semantic similarity.\n",
        "\n",
        "By default it uses an academic dataset WS-353 but one can create a dataset\n",
        "specific to your business based on it. It contains word pairs together with\n",
        "human-assigned similarity judgments. It measures the relatedness or\n",
        "co-occurrence of two words. For example, 'coast' and 'shore' are very similar\n",
        "as they appear in the same context. At the same time 'clothes' and 'closet'\n",
        "are less similar because they are related but not interchangeable.\n"
      ]
    },
    {
      "cell_type": "code",
      "execution_count": 19,
      "metadata": {
        "collapsed": false
      },
      "outputs": [
        {
          "name": "stderr",
          "output_type": "stream",
          "text": [
            "2024-03-18 18:56:24,576 : INFO : Skipping line #2 with OOV words: love\tsex\t6.77\n",
            "2024-03-18 18:56:24,577 : INFO : Skipping line #3 with OOV words: tiger\tcat\t7.35\n",
            "2024-03-18 18:56:24,579 : INFO : Skipping line #4 with OOV words: tiger\ttiger\t10.00\n",
            "2024-03-18 18:56:24,580 : INFO : Skipping line #5 with OOV words: book\tpaper\t7.46\n",
            "2024-03-18 18:56:24,581 : INFO : Skipping line #6 with OOV words: computer\tkeyboard\t7.62\n",
            "2024-03-18 18:56:24,581 : INFO : Skipping line #7 with OOV words: computer\tinternet\t7.58\n",
            "2024-03-18 18:56:24,582 : INFO : Skipping line #9 with OOV words: train\tcar\t6.31\n",
            "2024-03-18 18:56:24,583 : INFO : Skipping line #10 with OOV words: telephone\tcommunication\t7.50\n",
            "2024-03-18 18:56:24,583 : INFO : Skipping line #14 with OOV words: bread\tbutter\t6.19\n",
            "2024-03-18 18:56:24,585 : INFO : Skipping line #15 with OOV words: cucumber\tpotato\t5.92\n",
            "2024-03-18 18:56:24,586 : INFO : Skipping line #16 with OOV words: doctor\tnurse\t7.00\n",
            "2024-03-18 18:56:24,586 : INFO : Skipping line #18 with OOV words: student\tprofessor\t6.81\n",
            "2024-03-18 18:56:24,587 : INFO : Skipping line #19 with OOV words: smart\tstudent\t4.62\n",
            "2024-03-18 18:56:24,587 : INFO : Skipping line #20 with OOV words: smart\tstupid\t5.81\n",
            "2024-03-18 18:56:24,588 : INFO : Skipping line #21 with OOV words: company\tstock\t7.08\n",
            "2024-03-18 18:56:24,589 : INFO : Skipping line #22 with OOV words: stock\tmarket\t8.08\n",
            "2024-03-18 18:56:24,589 : INFO : Skipping line #23 with OOV words: stock\tphone\t1.62\n",
            "2024-03-18 18:56:24,590 : INFO : Skipping line #24 with OOV words: stock\tCD\t1.31\n",
            "2024-03-18 18:56:24,591 : INFO : Skipping line #25 with OOV words: stock\tjaguar\t0.92\n",
            "2024-03-18 18:56:24,592 : INFO : Skipping line #26 with OOV words: stock\tegg\t1.81\n",
            "2024-03-18 18:56:24,594 : INFO : Skipping line #27 with OOV words: fertility\tegg\t6.69\n",
            "2024-03-18 18:56:24,594 : INFO : Skipping line #28 with OOV words: stock\tlive\t3.73\n",
            "2024-03-18 18:56:24,595 : INFO : Skipping line #29 with OOV words: stock\tlife\t0.92\n",
            "2024-03-18 18:56:24,595 : INFO : Skipping line #30 with OOV words: book\tlibrary\t7.46\n",
            "2024-03-18 18:56:24,596 : INFO : Skipping line #32 with OOV words: wood\tforest\t7.73\n",
            "2024-03-18 18:56:24,597 : INFO : Skipping line #33 with OOV words: money\tcash\t9.15\n",
            "2024-03-18 18:56:24,598 : INFO : Skipping line #34 with OOV words: professor\tcucumber\t0.31\n",
            "2024-03-18 18:56:24,599 : INFO : Skipping line #35 with OOV words: king\tcabbage\t0.23\n",
            "2024-03-18 18:56:24,600 : INFO : Skipping line #36 with OOV words: king\tqueen\t8.58\n",
            "2024-03-18 18:56:24,600 : INFO : Skipping line #37 with OOV words: king\trook\t5.92\n",
            "2024-03-18 18:56:24,601 : INFO : Skipping line #38 with OOV words: bishop\trabbi\t6.69\n",
            "2024-03-18 18:56:24,602 : INFO : Skipping line #41 with OOV words: holy\tsex\t1.62\n",
            "2024-03-18 18:56:24,606 : INFO : Skipping line #42 with OOV words: fuck\tsex\t9.44\n",
            "2024-03-18 18:56:24,607 : INFO : Skipping line #43 with OOV words: Maradona\tfootball\t8.62\n",
            "2024-03-18 18:56:24,612 : INFO : Skipping line #44 with OOV words: football\tsoccer\t9.03\n",
            "2024-03-18 18:56:24,613 : INFO : Skipping line #45 with OOV words: football\tbasketball\t6.81\n",
            "2024-03-18 18:56:24,614 : INFO : Skipping line #46 with OOV words: football\ttennis\t6.63\n",
            "2024-03-18 18:56:24,647 : INFO : Skipping line #47 with OOV words: tennis\tracket\t7.56\n",
            "2024-03-18 18:56:24,662 : INFO : Skipping line #50 with OOV words: Arafat\tJackson\t2.50\n",
            "2024-03-18 18:56:24,664 : INFO : Skipping line #51 with OOV words: law\tlawyer\t8.38\n",
            "2024-03-18 18:56:24,665 : INFO : Skipping line #52 with OOV words: movie\tstar\t7.38\n",
            "2024-03-18 18:56:24,665 : INFO : Skipping line #53 with OOV words: movie\tpopcorn\t6.19\n",
            "2024-03-18 18:56:24,666 : INFO : Skipping line #54 with OOV words: movie\tcritic\t6.73\n",
            "2024-03-18 18:56:24,666 : INFO : Skipping line #55 with OOV words: movie\ttheater\t7.92\n",
            "2024-03-18 18:56:24,667 : INFO : Skipping line #56 with OOV words: physics\tproton\t8.12\n",
            "2024-03-18 18:56:24,671 : INFO : Skipping line #57 with OOV words: physics\tchemistry\t7.35\n",
            "2024-03-18 18:56:24,682 : INFO : Skipping line #58 with OOV words: space\tchemistry\t4.88\n",
            "2024-03-18 18:56:24,684 : INFO : Skipping line #59 with OOV words: alcohol\tchemistry\t5.54\n",
            "2024-03-18 18:56:24,688 : INFO : Skipping line #60 with OOV words: vodka\tgin\t8.46\n",
            "2024-03-18 18:56:24,689 : INFO : Skipping line #61 with OOV words: vodka\tbrandy\t8.13\n",
            "2024-03-18 18:56:24,690 : INFO : Skipping line #62 with OOV words: drink\tcar\t3.04\n",
            "2024-03-18 18:56:24,693 : INFO : Skipping line #63 with OOV words: drink\tear\t1.31\n",
            "2024-03-18 18:56:24,693 : INFO : Skipping line #64 with OOV words: drink\tmouth\t5.96\n",
            "2024-03-18 18:56:24,695 : INFO : Skipping line #65 with OOV words: drink\teat\t6.87\n",
            "2024-03-18 18:56:24,695 : INFO : Skipping line #66 with OOV words: baby\tmother\t7.85\n",
            "2024-03-18 18:56:24,696 : INFO : Skipping line #67 with OOV words: drink\tmother\t2.65\n",
            "2024-03-18 18:56:24,696 : INFO : Skipping line #68 with OOV words: car\tautomobile\t8.94\n",
            "2024-03-18 18:56:24,697 : INFO : Skipping line #69 with OOV words: gem\tjewel\t8.96\n",
            "2024-03-18 18:56:24,698 : INFO : Skipping line #70 with OOV words: journey\tvoyage\t9.29\n",
            "2024-03-18 18:56:24,698 : INFO : Skipping line #71 with OOV words: boy\tlad\t8.83\n",
            "2024-03-18 18:56:24,699 : INFO : Skipping line #72 with OOV words: coast\tshore\t9.10\n",
            "2024-03-18 18:56:24,700 : INFO : Skipping line #73 with OOV words: asylum\tmadhouse\t8.87\n",
            "2024-03-18 18:56:24,700 : INFO : Skipping line #74 with OOV words: magician\twizard\t9.02\n",
            "2024-03-18 18:56:24,701 : INFO : Skipping line #75 with OOV words: midday\tnoon\t9.29\n",
            "2024-03-18 18:56:24,702 : INFO : Skipping line #76 with OOV words: furnace\tstove\t8.79\n",
            "2024-03-18 18:56:24,703 : INFO : Skipping line #77 with OOV words: food\tfruit\t7.52\n",
            "2024-03-18 18:56:24,704 : INFO : Skipping line #78 with OOV words: bird\tcock\t7.10\n",
            "2024-03-18 18:56:24,704 : INFO : Skipping line #79 with OOV words: bird\tcrane\t7.38\n",
            "2024-03-18 18:56:24,705 : INFO : Skipping line #80 with OOV words: tool\timplement\t6.46\n",
            "2024-03-18 18:56:24,706 : INFO : Skipping line #81 with OOV words: brother\tmonk\t6.27\n",
            "2024-03-18 18:56:24,706 : INFO : Skipping line #82 with OOV words: crane\timplement\t2.69\n",
            "2024-03-18 18:56:24,707 : INFO : Skipping line #83 with OOV words: lad\tbrother\t4.46\n",
            "2024-03-18 18:56:24,708 : INFO : Skipping line #84 with OOV words: journey\tcar\t5.85\n",
            "2024-03-18 18:56:24,708 : INFO : Skipping line #85 with OOV words: monk\toracle\t5.00\n",
            "2024-03-18 18:56:24,709 : INFO : Skipping line #86 with OOV words: cemetery\twoodland\t2.08\n",
            "2024-03-18 18:56:24,709 : INFO : Skipping line #87 with OOV words: food\trooster\t4.42\n",
            "2024-03-18 18:56:24,710 : INFO : Skipping line #89 with OOV words: forest\tgraveyard\t1.85\n",
            "2024-03-18 18:56:24,711 : INFO : Skipping line #90 with OOV words: shore\twoodland\t3.08\n",
            "2024-03-18 18:56:24,711 : INFO : Skipping line #91 with OOV words: monk\tslave\t0.92\n",
            "2024-03-18 18:56:24,711 : INFO : Skipping line #92 with OOV words: coast\tforest\t3.15\n",
            "2024-03-18 18:56:24,712 : INFO : Skipping line #93 with OOV words: lad\twizard\t0.92\n",
            "2024-03-18 18:56:24,712 : INFO : Skipping line #94 with OOV words: chord\tsmile\t0.54\n",
            "2024-03-18 18:56:24,713 : INFO : Skipping line #95 with OOV words: glass\tmagician\t2.08\n",
            "2024-03-18 18:56:24,714 : INFO : Skipping line #96 with OOV words: noon\tstring\t0.54\n",
            "2024-03-18 18:56:24,714 : INFO : Skipping line #97 with OOV words: rooster\tvoyage\t0.62\n",
            "2024-03-18 18:56:24,714 : INFO : Skipping line #98 with OOV words: money\tdollar\t8.42\n",
            "2024-03-18 18:56:24,715 : INFO : Skipping line #99 with OOV words: money\tcash\t9.08\n",
            "2024-03-18 18:56:24,715 : INFO : Skipping line #100 with OOV words: money\tcurrency\t9.04\n",
            "2024-03-18 18:56:24,716 : INFO : Skipping line #101 with OOV words: money\twealth\t8.27\n",
            "2024-03-18 18:56:24,716 : INFO : Skipping line #103 with OOV words: money\tpossession\t7.29\n",
            "2024-03-18 18:56:24,717 : INFO : Skipping line #105 with OOV words: money\tdeposit\t7.73\n",
            "2024-03-18 18:56:24,717 : INFO : Skipping line #106 with OOV words: money\twithdrawal\t6.88\n",
            "2024-03-18 18:56:24,719 : INFO : Skipping line #107 with OOV words: money\tlaundering\t5.65\n",
            "2024-03-18 18:56:24,720 : INFO : Skipping line #109 with OOV words: tiger\tjaguar\t8.00\n",
            "2024-03-18 18:56:24,720 : INFO : Skipping line #110 with OOV words: tiger\tfeline\t8.00\n",
            "2024-03-18 18:56:24,721 : INFO : Skipping line #111 with OOV words: tiger\tcarnivore\t7.08\n",
            "2024-03-18 18:56:24,721 : INFO : Skipping line #112 with OOV words: tiger\tmammal\t6.85\n",
            "2024-03-18 18:56:24,721 : INFO : Skipping line #113 with OOV words: tiger\tanimal\t7.00\n",
            "2024-03-18 18:56:24,722 : INFO : Skipping line #114 with OOV words: tiger\torganism\t4.77\n",
            "2024-03-18 18:56:24,722 : INFO : Skipping line #115 with OOV words: tiger\tfauna\t5.62\n",
            "2024-03-18 18:56:24,723 : INFO : Skipping line #116 with OOV words: tiger\tzoo\t5.87\n",
            "2024-03-18 18:56:24,723 : INFO : Skipping line #117 with OOV words: psychology\tpsychiatry\t8.08\n",
            "2024-03-18 18:56:24,724 : INFO : Skipping line #118 with OOV words: psychology\tanxiety\t7.00\n",
            "2024-03-18 18:56:24,725 : INFO : Skipping line #119 with OOV words: psychology\tfear\t6.85\n",
            "2024-03-18 18:56:24,727 : INFO : Skipping line #120 with OOV words: psychology\tdepression\t7.42\n",
            "2024-03-18 18:56:24,727 : INFO : Skipping line #121 with OOV words: psychology\tclinic\t6.58\n",
            "2024-03-18 18:56:24,727 : INFO : Skipping line #122 with OOV words: psychology\tdoctor\t6.42\n",
            "2024-03-18 18:56:24,728 : INFO : Skipping line #123 with OOV words: psychology\tFreud\t8.21\n",
            "2024-03-18 18:56:24,729 : INFO : Skipping line #124 with OOV words: psychology\tmind\t7.69\n",
            "2024-03-18 18:56:24,730 : INFO : Skipping line #125 with OOV words: psychology\thealth\t7.23\n",
            "2024-03-18 18:56:24,731 : INFO : Skipping line #126 with OOV words: psychology\tscience\t6.71\n",
            "2024-03-18 18:56:24,731 : INFO : Skipping line #127 with OOV words: psychology\tdiscipline\t5.58\n",
            "2024-03-18 18:56:24,732 : INFO : Skipping line #128 with OOV words: psychology\tcognition\t7.48\n",
            "2024-03-18 18:56:24,733 : INFO : Skipping line #129 with OOV words: planet\tstar\t8.45\n",
            "2024-03-18 18:56:24,733 : INFO : Skipping line #130 with OOV words: planet\tconstellation\t8.06\n",
            "2024-03-18 18:56:24,734 : INFO : Skipping line #131 with OOV words: planet\tmoon\t8.08\n",
            "2024-03-18 18:56:24,735 : INFO : Skipping line #132 with OOV words: planet\tsun\t8.02\n",
            "2024-03-18 18:56:24,737 : INFO : Skipping line #133 with OOV words: planet\tgalaxy\t8.11\n",
            "2024-03-18 18:56:24,738 : INFO : Skipping line #134 with OOV words: planet\tspace\t7.92\n",
            "2024-03-18 18:56:24,739 : INFO : Skipping line #135 with OOV words: planet\tastronomer\t7.94\n",
            "2024-03-18 18:56:24,739 : INFO : Skipping line #136 with OOV words: precedent\texample\t5.85\n",
            "2024-03-18 18:56:24,740 : INFO : Skipping line #137 with OOV words: precedent\tinformation\t3.85\n",
            "2024-03-18 18:56:24,741 : INFO : Skipping line #138 with OOV words: precedent\tcognition\t2.81\n",
            "2024-03-18 18:56:24,742 : INFO : Skipping line #139 with OOV words: precedent\tlaw\t6.65\n",
            "2024-03-18 18:56:24,742 : INFO : Skipping line #140 with OOV words: precedent\tcollection\t2.50\n",
            "2024-03-18 18:56:24,743 : INFO : Skipping line #141 with OOV words: precedent\tgroup\t1.77\n",
            "2024-03-18 18:56:24,743 : INFO : Skipping line #142 with OOV words: precedent\tantecedent\t6.04\n",
            "2024-03-18 18:56:24,743 : INFO : Skipping line #143 with OOV words: cup\tcoffee\t6.58\n",
            "2024-03-18 18:56:24,744 : INFO : Skipping line #144 with OOV words: cup\ttableware\t6.85\n",
            "2024-03-18 18:56:24,745 : INFO : Skipping line #145 with OOV words: cup\tarticle\t2.40\n",
            "2024-03-18 18:56:24,747 : INFO : Skipping line #146 with OOV words: cup\tartifact\t2.92\n",
            "2024-03-18 18:56:24,749 : INFO : Skipping line #147 with OOV words: cup\tobject\t3.69\n",
            "2024-03-18 18:56:24,750 : INFO : Skipping line #148 with OOV words: cup\tentity\t2.15\n",
            "2024-03-18 18:56:24,750 : INFO : Skipping line #149 with OOV words: cup\tdrink\t7.25\n",
            "2024-03-18 18:56:24,751 : INFO : Skipping line #151 with OOV words: cup\tsubstance\t1.92\n",
            "2024-03-18 18:56:24,752 : INFO : Skipping line #152 with OOV words: cup\tliquid\t5.90\n",
            "2024-03-18 18:56:24,753 : INFO : Skipping line #153 with OOV words: jaguar\tcat\t7.42\n",
            "2024-03-18 18:56:24,754 : INFO : Skipping line #154 with OOV words: jaguar\tcar\t7.27\n",
            "2024-03-18 18:56:24,755 : INFO : Skipping line #157 with OOV words: energy\tlaboratory\t5.09\n",
            "2024-03-18 18:56:24,755 : INFO : Skipping line #158 with OOV words: computer\tlaboratory\t6.78\n",
            "2024-03-18 18:56:24,756 : INFO : Skipping line #159 with OOV words: weapon\tsecret\t6.06\n",
            "2024-03-18 18:56:24,756 : INFO : Skipping line #160 with OOV words: FBI\tfingerprint\t6.94\n",
            "2024-03-18 18:56:24,757 : INFO : Skipping line #161 with OOV words: FBI\tinvestigation\t8.31\n",
            "2024-03-18 18:56:24,757 : INFO : Skipping line #163 with OOV words: Mars\twater\t2.94\n",
            "2024-03-18 18:56:24,757 : INFO : Skipping line #164 with OOV words: Mars\tscientist\t5.63\n",
            "2024-03-18 18:56:24,758 : INFO : Skipping line #166 with OOV words: canyon\tlandscape\t7.53\n",
            "2024-03-18 18:56:24,759 : INFO : Skipping line #167 with OOV words: image\tsurface\t4.56\n",
            "2024-03-18 18:56:24,759 : INFO : Skipping line #168 with OOV words: discovery\tspace\t6.34\n",
            "2024-03-18 18:56:24,760 : INFO : Skipping line #169 with OOV words: water\tseepage\t6.56\n",
            "2024-03-18 18:56:24,760 : INFO : Skipping line #170 with OOV words: sign\trecess\t2.38\n",
            "2024-03-18 18:56:24,762 : INFO : Skipping line #172 with OOV words: mile\tkilometer\t8.66\n",
            "2024-03-18 18:56:24,762 : INFO : Skipping line #173 with OOV words: computer\tnews\t4.47\n",
            "2024-03-18 18:56:24,763 : INFO : Skipping line #174 with OOV words: territory\tsurface\t5.34\n",
            "2024-03-18 18:56:24,763 : INFO : Skipping line #175 with OOV words: atmosphere\tlandscape\t3.69\n",
            "2024-03-18 18:56:24,763 : INFO : Skipping line #176 with OOV words: president\tmedal\t3.00\n",
            "2024-03-18 18:56:24,764 : INFO : Skipping line #179 with OOV words: skin\teye\t6.22\n",
            "2024-03-18 18:56:24,764 : INFO : Skipping line #181 with OOV words: theater\thistory\t3.91\n",
            "2024-03-18 18:56:24,765 : INFO : Skipping line #182 with OOV words: volunteer\tmotto\t2.56\n",
            "2024-03-18 18:56:24,765 : INFO : Skipping line #183 with OOV words: prejudice\trecognition\t3.00\n",
            "2024-03-18 18:56:24,766 : INFO : Skipping line #184 with OOV words: decoration\tvalor\t5.63\n",
            "2024-03-18 18:56:24,766 : INFO : Skipping line #185 with OOV words: century\tyear\t7.59\n",
            "2024-03-18 18:56:24,767 : INFO : Skipping line #186 with OOV words: century\tnation\t3.16\n",
            "2024-03-18 18:56:24,767 : INFO : Skipping line #187 with OOV words: delay\tracism\t1.19\n",
            "2024-03-18 18:56:24,768 : INFO : Skipping line #191 with OOV words: minority\tpeace\t3.69\n",
            "2024-03-18 18:56:24,770 : INFO : Skipping line #194 with OOV words: deployment\tdeparture\t4.25\n",
            "2024-03-18 18:56:24,770 : INFO : Skipping line #195 with OOV words: deployment\twithdrawal\t5.88\n",
            "2024-03-18 18:56:24,771 : INFO : Skipping line #197 with OOV words: announcement\tnews\t7.56\n",
            "2024-03-18 18:56:24,771 : INFO : Skipping line #198 with OOV words: announcement\teffort\t2.75\n",
            "2024-03-18 18:56:24,771 : INFO : Skipping line #199 with OOV words: stroke\thospital\t7.03\n",
            "2024-03-18 18:56:24,771 : INFO : Skipping line #200 with OOV words: disability\tdeath\t5.47\n",
            "2024-03-18 18:56:24,772 : INFO : Skipping line #201 with OOV words: victim\temergency\t6.47\n",
            "2024-03-18 18:56:24,772 : INFO : Skipping line #203 with OOV words: journal\tassociation\t4.97\n",
            "2024-03-18 18:56:24,772 : INFO : Skipping line #205 with OOV words: doctor\tliability\t5.19\n",
            "2024-03-18 18:56:24,772 : INFO : Skipping line #206 with OOV words: liability\tinsurance\t7.03\n",
            "2024-03-18 18:56:24,773 : INFO : Skipping line #207 with OOV words: school\tcenter\t3.44\n",
            "2024-03-18 18:56:24,773 : INFO : Skipping line #208 with OOV words: reason\thypertension\t2.31\n",
            "2024-03-18 18:56:24,773 : INFO : Skipping line #209 with OOV words: reason\tcriterion\t5.91\n",
            "2024-03-18 18:56:24,773 : INFO : Skipping line #210 with OOV words: hundred\tpercent\t7.38\n",
            "2024-03-18 18:56:24,774 : INFO : Skipping line #211 with OOV words: Harvard\tYale\t8.13\n",
            "2024-03-18 18:56:24,774 : INFO : Skipping line #212 with OOV words: hospital\tinfrastructure\t4.63\n",
            "2024-03-18 18:56:24,774 : INFO : Skipping line #213 with OOV words: death\trow\t5.25\n",
            "2024-03-18 18:56:24,774 : INFO : Skipping line #214 with OOV words: death\tinmate\t5.03\n",
            "2024-03-18 18:56:24,774 : INFO : Skipping line #215 with OOV words: lawyer\tevidence\t6.69\n",
            "2024-03-18 18:56:24,775 : INFO : Skipping line #218 with OOV words: word\tsimilarity\t4.75\n",
            "2024-03-18 18:56:24,775 : INFO : Skipping line #219 with OOV words: board\trecommendation\t4.47\n",
            "2024-03-18 18:56:24,775 : INFO : Skipping line #221 with OOV words: OPEC\tcountry\t5.63\n",
            "2024-03-18 18:56:24,776 : INFO : Skipping line #222 with OOV words: peace\tatmosphere\t3.69\n",
            "2024-03-18 18:56:24,776 : INFO : Skipping line #224 with OOV words: territory\tkilometer\t5.28\n",
            "2024-03-18 18:56:24,777 : INFO : Skipping line #226 with OOV words: competition\tprice\t6.44\n",
            "2024-03-18 18:56:24,777 : INFO : Skipping line #227 with OOV words: consumer\tconfidence\t4.13\n",
            "2024-03-18 18:56:24,777 : INFO : Skipping line #228 with OOV words: consumer\tenergy\t4.75\n",
            "2024-03-18 18:56:24,778 : INFO : Skipping line #231 with OOV words: credit\tcard\t8.06\n",
            "2024-03-18 18:56:24,778 : INFO : Skipping line #233 with OOV words: hotel\treservation\t8.03\n",
            "2024-03-18 18:56:24,778 : INFO : Skipping line #234 with OOV words: grocery\tmoney\t5.94\n",
            "2024-03-18 18:56:24,778 : INFO : Skipping line #235 with OOV words: registration\tarrangement\t6.00\n",
            "2024-03-18 18:56:24,779 : INFO : Skipping line #236 with OOV words: arrangement\taccommodation\t5.41\n",
            "2024-03-18 18:56:24,779 : INFO : Skipping line #238 with OOV words: type\tkind\t8.97\n",
            "2024-03-18 18:56:24,779 : INFO : Skipping line #239 with OOV words: arrival\thotel\t6.00\n",
            "2024-03-18 18:56:24,779 : INFO : Skipping line #240 with OOV words: bed\tcloset\t6.72\n",
            "2024-03-18 18:56:24,779 : INFO : Skipping line #241 with OOV words: closet\tclothes\t8.00\n",
            "2024-03-18 18:56:24,780 : INFO : Skipping line #242 with OOV words: situation\tconclusion\t4.81\n",
            "2024-03-18 18:56:24,780 : INFO : Skipping line #243 with OOV words: situation\tisolation\t3.88\n",
            "2024-03-18 18:56:24,780 : INFO : Skipping line #244 with OOV words: impartiality\tinterest\t5.16\n",
            "2024-03-18 18:56:24,780 : INFO : Skipping line #245 with OOV words: direction\tcombination\t2.25\n",
            "2024-03-18 18:56:24,780 : INFO : Skipping line #246 with OOV words: street\tplace\t6.44\n",
            "2024-03-18 18:56:24,781 : INFO : Skipping line #247 with OOV words: street\tavenue\t8.88\n",
            "2024-03-18 18:56:24,781 : INFO : Skipping line #248 with OOV words: street\tblock\t6.88\n",
            "2024-03-18 18:56:24,781 : INFO : Skipping line #249 with OOV words: street\tchildren\t4.94\n",
            "2024-03-18 18:56:24,781 : INFO : Skipping line #250 with OOV words: listing\tproximity\t2.56\n",
            "2024-03-18 18:56:24,781 : INFO : Skipping line #251 with OOV words: listing\tcategory\t6.38\n",
            "2024-03-18 18:56:24,781 : INFO : Skipping line #252 with OOV words: cell\tphone\t7.81\n",
            "2024-03-18 18:56:24,782 : INFO : Skipping line #253 with OOV words: production\thike\t1.75\n",
            "2024-03-18 18:56:24,782 : INFO : Skipping line #254 with OOV words: benchmark\tindex\t4.25\n",
            "2024-03-18 18:56:24,782 : INFO : Skipping line #256 with OOV words: media\tgain\t2.88\n",
            "2024-03-18 18:56:24,782 : INFO : Skipping line #257 with OOV words: dividend\tpayment\t7.63\n",
            "2024-03-18 18:56:24,782 : INFO : Skipping line #258 with OOV words: dividend\tcalculation\t6.48\n",
            "2024-03-18 18:56:24,783 : INFO : Skipping line #259 with OOV words: calculation\tcomputation\t8.44\n",
            "2024-03-18 18:56:24,783 : INFO : Skipping line #260 with OOV words: currency\tmarket\t7.50\n",
            "2024-03-18 18:56:24,783 : INFO : Skipping line #261 with OOV words: OPEC\toil\t8.59\n",
            "2024-03-18 18:56:24,783 : INFO : Skipping line #262 with OOV words: oil\tstock\t6.34\n",
            "2024-03-18 18:56:24,783 : INFO : Skipping line #263 with OOV words: announcement\tproduction\t3.38\n",
            "2024-03-18 18:56:24,784 : INFO : Skipping line #264 with OOV words: announcement\twarning\t6.00\n",
            "2024-03-18 18:56:24,784 : INFO : Skipping line #265 with OOV words: profit\twarning\t3.88\n",
            "2024-03-18 18:56:24,786 : INFO : Skipping line #266 with OOV words: profit\tloss\t7.63\n",
            "2024-03-18 18:56:24,787 : INFO : Skipping line #267 with OOV words: dollar\tyen\t7.78\n",
            "2024-03-18 18:56:24,787 : INFO : Skipping line #268 with OOV words: dollar\tbuck\t9.22\n",
            "2024-03-18 18:56:24,788 : INFO : Skipping line #269 with OOV words: dollar\tprofit\t7.38\n",
            "2024-03-18 18:56:24,788 : INFO : Skipping line #270 with OOV words: dollar\tloss\t6.09\n",
            "2024-03-18 18:56:24,789 : INFO : Skipping line #271 with OOV words: computer\tsoftware\t8.50\n",
            "2024-03-18 18:56:24,789 : INFO : Skipping line #272 with OOV words: network\thardware\t8.31\n",
            "2024-03-18 18:56:24,789 : INFO : Skipping line #273 with OOV words: phone\tequipment\t7.13\n",
            "2024-03-18 18:56:24,789 : INFO : Skipping line #274 with OOV words: equipment\tmaker\t5.91\n",
            "2024-03-18 18:56:24,790 : INFO : Skipping line #275 with OOV words: luxury\tcar\t6.47\n",
            "2024-03-18 18:56:24,790 : INFO : Skipping line #277 with OOV words: report\tgain\t3.63\n",
            "2024-03-18 18:56:24,791 : INFO : Skipping line #278 with OOV words: investor\tearning\t7.13\n",
            "2024-03-18 18:56:24,791 : INFO : Skipping line #279 with OOV words: liquid\twater\t7.89\n",
            "2024-03-18 18:56:24,791 : INFO : Skipping line #280 with OOV words: baseball\tseason\t5.97\n",
            "2024-03-18 18:56:24,792 : INFO : Skipping line #283 with OOV words: marathon\tsprint\t7.47\n",
            "2024-03-18 18:56:24,792 : INFO : Skipping line #285 with OOV words: game\tdefeat\t6.97\n",
            "2024-03-18 18:56:24,792 : INFO : Skipping line #287 with OOV words: seafood\tsea\t7.47\n",
            "2024-03-18 18:56:24,793 : INFO : Skipping line #288 with OOV words: seafood\tfood\t8.34\n",
            "2024-03-18 18:56:24,793 : INFO : Skipping line #289 with OOV words: seafood\tlobster\t8.70\n",
            "2024-03-18 18:56:24,793 : INFO : Skipping line #290 with OOV words: lobster\tfood\t7.81\n",
            "2024-03-18 18:56:24,794 : INFO : Skipping line #291 with OOV words: lobster\twine\t5.70\n",
            "2024-03-18 18:56:24,794 : INFO : Skipping line #292 with OOV words: food\tpreparation\t6.22\n",
            "2024-03-18 18:56:24,794 : INFO : Skipping line #293 with OOV words: video\tarchive\t6.34\n",
            "2024-03-18 18:56:24,795 : INFO : Skipping line #298 with OOV words: championship\ttournament\t8.36\n",
            "2024-03-18 18:56:24,795 : INFO : Skipping line #299 with OOV words: fighting\tdefeating\t7.41\n",
            "2024-03-18 18:56:24,795 : INFO : Skipping line #301 with OOV words: day\tsummer\t3.94\n",
            "2024-03-18 18:56:24,795 : INFO : Skipping line #302 with OOV words: summer\tdrought\t7.16\n",
            "2024-03-18 18:56:24,795 : INFO : Skipping line #303 with OOV words: summer\tnature\t5.63\n",
            "2024-03-18 18:56:24,796 : INFO : Skipping line #304 with OOV words: day\tdawn\t7.53\n",
            "2024-03-18 18:56:24,796 : INFO : Skipping line #305 with OOV words: nature\tenvironment\t8.31\n",
            "2024-03-18 18:56:24,796 : INFO : Skipping line #306 with OOV words: environment\tecology\t8.81\n",
            "2024-03-18 18:56:24,797 : INFO : Skipping line #307 with OOV words: nature\tman\t6.25\n",
            "2024-03-18 18:56:24,799 : INFO : Skipping line #311 with OOV words: soap\topera\t7.94\n",
            "2024-03-18 18:56:24,799 : INFO : Skipping line #312 with OOV words: opera\tperformance\t6.88\n",
            "2024-03-18 18:56:24,799 : INFO : Skipping line #313 with OOV words: life\tlesson\t5.94\n",
            "2024-03-18 18:56:24,799 : INFO : Skipping line #315 with OOV words: production\tcrew\t6.25\n",
            "2024-03-18 18:56:24,800 : INFO : Skipping line #316 with OOV words: television\tfilm\t7.72\n",
            "2024-03-18 18:56:24,800 : INFO : Skipping line #317 with OOV words: lover\tquarrel\t6.19\n",
            "2024-03-18 18:56:24,800 : INFO : Skipping line #318 with OOV words: viewer\tserial\t2.97\n",
            "2024-03-18 18:56:24,800 : INFO : Skipping line #319 with OOV words: possibility\tgirl\t1.94\n",
            "2024-03-18 18:56:24,800 : INFO : Skipping line #320 with OOV words: population\tdevelopment\t3.75\n",
            "2024-03-18 18:56:24,801 : INFO : Skipping line #321 with OOV words: morality\timportance\t3.31\n",
            "2024-03-18 18:56:24,802 : INFO : Skipping line #322 with OOV words: morality\tmarriage\t3.69\n",
            "2024-03-18 18:56:24,803 : INFO : Skipping line #323 with OOV words: Mexico\tBrazil\t7.44\n",
            "2024-03-18 18:56:24,803 : INFO : Skipping line #324 with OOV words: gender\tequality\t6.41\n",
            "2024-03-18 18:56:24,805 : INFO : Skipping line #325 with OOV words: change\tattitude\t5.44\n",
            "2024-03-18 18:56:24,806 : INFO : Skipping line #327 with OOV words: opera\tindustry\t2.63\n",
            "2024-03-18 18:56:24,807 : INFO : Skipping line #328 with OOV words: sugar\tapproach\t0.88\n",
            "2024-03-18 18:56:24,807 : INFO : Skipping line #329 with OOV words: practice\tinstitution\t3.19\n",
            "2024-03-18 18:56:24,808 : INFO : Skipping line #330 with OOV words: ministry\tculture\t4.69\n",
            "2024-03-18 18:56:24,809 : INFO : Skipping line #331 with OOV words: problem\tchallenge\t6.75\n",
            "2024-03-18 18:56:24,809 : INFO : Skipping line #332 with OOV words: size\tprominence\t5.31\n",
            "2024-03-18 18:56:24,809 : INFO : Skipping line #333 with OOV words: country\tcitizen\t7.31\n",
            "2024-03-18 18:56:24,810 : INFO : Skipping line #334 with OOV words: planet\tpeople\t5.75\n",
            "2024-03-18 18:56:24,810 : INFO : Skipping line #335 with OOV words: development\tissue\t3.97\n",
            "2024-03-18 18:56:24,810 : INFO : Skipping line #336 with OOV words: experience\tmusic\t3.47\n",
            "2024-03-18 18:56:24,810 : INFO : Skipping line #337 with OOV words: music\tproject\t3.63\n",
            "2024-03-18 18:56:24,810 : INFO : Skipping line #338 with OOV words: glass\tmetal\t5.56\n",
            "2024-03-18 18:56:24,811 : INFO : Skipping line #339 with OOV words: aluminum\tmetal\t7.83\n",
            "2024-03-18 18:56:24,811 : INFO : Skipping line #340 with OOV words: chance\tcredibility\t3.88\n",
            "2024-03-18 18:56:24,811 : INFO : Skipping line #341 with OOV words: exhibit\tmemorabilia\t5.31\n",
            "2024-03-18 18:56:24,811 : INFO : Skipping line #342 with OOV words: concert\tvirtuoso\t6.81\n",
            "2024-03-18 18:56:24,811 : INFO : Skipping line #343 with OOV words: rock\tjazz\t7.59\n",
            "2024-03-18 18:56:24,812 : INFO : Skipping line #344 with OOV words: museum\ttheater\t7.19\n",
            "2024-03-18 18:56:24,812 : INFO : Skipping line #345 with OOV words: observation\tarchitecture\t4.38\n",
            "2024-03-18 18:56:24,812 : INFO : Skipping line #347 with OOV words: preservation\tworld\t6.19\n",
            "2024-03-18 18:56:24,813 : INFO : Skipping line #348 with OOV words: admission\tticket\t7.69\n",
            "2024-03-18 18:56:24,813 : INFO : Skipping line #349 with OOV words: shower\tthunderstorm\t6.31\n",
            "2024-03-18 18:56:24,813 : INFO : Skipping line #350 with OOV words: shower\tflood\t6.03\n",
            "2024-03-18 18:56:24,813 : INFO : Skipping line #354 with OOV words: architecture\tcentury\t3.78\n",
            "2024-03-18 18:56:24,830 : INFO : Pearson correlation coefficient against /Users/mikolaj/anaconda3/envs/py39/lib/python3.9/site-packages/gensim/test/test_data/wordsim353.tsv: 0.1885\n",
            "2024-03-18 18:56:24,830 : INFO : Spearman rank-order correlation coefficient against /Users/mikolaj/anaconda3/envs/py39/lib/python3.9/site-packages/gensim/test/test_data/wordsim353.tsv: 0.1186\n",
            "2024-03-18 18:56:24,830 : INFO : Pairs with unknown words ratio: 83.0%\n"
          ]
        },
        {
          "data": {
            "text/plain": [
              "(PearsonRResult(statistic=0.18851087997029026, pvalue=0.1491753134655201),\n",
              " SignificanceResult(statistic=0.11857718567073697, pvalue=0.36686424357371294),\n",
              " 83.0028328611898)"
            ]
          },
          "execution_count": 19,
          "metadata": {},
          "output_type": "execute_result"
        }
      ],
      "source": [
        "model.wv.evaluate_word_pairs(datapath(\"wordsim353.tsv\"))"
      ]
    },
    {
      "cell_type": "markdown",
      "metadata": {},
      "source": [
        ".. Important::\n",
        "Good performance on Google's or WS-353 test set doesn’t mean word2vec will\n",
        "work well in your application, or vice versa. It’s always best to evaluate\n",
        "directly on your intended task. For an example of how to use word2vec in a\n",
        "classifier pipeline, see this `tutorial\n",
        "  <https://github.com/RaRe-Technologies/movie-plots-by-genre>`\\_.\n"
      ]
    },
    {
      "cell_type": "markdown",
      "metadata": {},
      "source": [
        "## Online training / Resuming training\n",
        "\n",
        "Advanced users can load a model and continue training it with more sentences\n",
        "and `new vocabulary words <online_w2v_tutorial.ipynb>`\\_:\n"
      ]
    },
    {
      "cell_type": "code",
      "execution_count": 20,
      "metadata": {
        "collapsed": false
      },
      "outputs": [
        {
          "name": "stderr",
          "output_type": "stream",
          "text": [
            "2024-03-18 18:56:24,851 : INFO : loading Word2Vec object from /var/folders/92/zxctmr690hg7vxthclr_pprm0000gn/T/gensim-model-3tb0739e\n",
            "2024-03-18 18:56:24,859 : INFO : loading wv recursively from /var/folders/92/zxctmr690hg7vxthclr_pprm0000gn/T/gensim-model-3tb0739e.wv.* with mmap=None\n",
            "2024-03-18 18:56:24,860 : INFO : setting ignored attribute cum_table to None\n",
            "2024-03-18 18:56:24,876 : INFO : Word2Vec lifecycle event {'fname': '/var/folders/92/zxctmr690hg7vxthclr_pprm0000gn/T/gensim-model-3tb0739e', 'datetime': '2024-03-18T18:56:24.876283', 'gensim': '4.3.2', 'python': '3.9.18 (main, Sep 11 2023, 08:25:10) \\n[Clang 14.0.6 ]', 'platform': 'macOS-14.3.1-arm64-arm-64bit', 'event': 'loaded'}\n",
            "2024-03-18 18:56:24,879 : INFO : collecting all words and their counts\n",
            "2024-03-18 18:56:24,882 : INFO : PROGRESS: at sentence #0, processed 0 words, keeping 0 word types\n",
            "2024-03-18 18:56:24,884 : INFO : collected 13 word types from a corpus of 13 raw words and 1 sentences\n",
            "2024-03-18 18:56:24,887 : INFO : Updating model with new vocabulary\n",
            "2024-03-18 18:56:24,894 : INFO : Word2Vec lifecycle event {'msg': 'added 0 new unique words (0.00% of original 13) and increased the count of 0 pre-existing words (0.00% of original 13)', 'datetime': '2024-03-18T18:56:24.894497', 'gensim': '4.3.2', 'python': '3.9.18 (main, Sep 11 2023, 08:25:10) \\n[Clang 14.0.6 ]', 'platform': 'macOS-14.3.1-arm64-arm-64bit', 'event': 'prepare_vocab'}\n",
            "2024-03-18 18:56:24,895 : INFO : deleting the raw counts dictionary of 13 items\n",
            "2024-03-18 18:56:24,896 : INFO : sample=0.001 downsamples 0 most-common words\n",
            "2024-03-18 18:56:24,896 : INFO : Word2Vec lifecycle event {'msg': 'downsampling leaves estimated 0 word corpus (0.0%% of prior 0)', 'datetime': '2024-03-18T18:56:24.896932', 'gensim': '4.3.2', 'python': '3.9.18 (main, Sep 11 2023, 08:25:10) \\n[Clang 14.0.6 ]', 'platform': 'macOS-14.3.1-arm64-arm-64bit', 'event': 'prepare_vocab'}\n",
            "2024-03-18 18:56:24,905 : INFO : estimated required memory for 1750 words and 100 dimensions: 2275000 bytes\n",
            "2024-03-18 18:56:24,906 : INFO : updating layer weights\n",
            "2024-03-18 18:56:24,906 : INFO : Word2Vec lifecycle event {'update': True, 'trim_rule': 'None', 'datetime': '2024-03-18T18:56:24.906688', 'gensim': '4.3.2', 'python': '3.9.18 (main, Sep 11 2023, 08:25:10) \\n[Clang 14.0.6 ]', 'platform': 'macOS-14.3.1-arm64-arm-64bit', 'event': 'build_vocab'}\n",
            "2024-03-18 18:56:24,907 : WARNING : Effective 'alpha' higher than previous training cycles\n",
            "2024-03-18 18:56:24,907 : INFO : Word2Vec lifecycle event {'msg': 'training model with 3 workers on 1750 vocabulary and 100 features, using sg=0 hs=0 sample=0.001 negative=5 window=5 shrink_windows=True', 'datetime': '2024-03-18T18:56:24.907352', 'gensim': '4.3.2', 'python': '3.9.18 (main, Sep 11 2023, 08:25:10) \\n[Clang 14.0.6 ]', 'platform': 'macOS-14.3.1-arm64-arm-64bit', 'event': 'train'}\n",
            "2024-03-18 18:56:24,910 : INFO : EPOCH 0: training on 13 raw words (6 effective words) took 0.0s, 21308 effective words/s\n",
            "2024-03-18 18:56:24,913 : INFO : EPOCH 1: training on 13 raw words (5 effective words) took 0.0s, 20626 effective words/s\n",
            "2024-03-18 18:56:24,916 : INFO : EPOCH 2: training on 13 raw words (5 effective words) took 0.0s, 10853 effective words/s\n",
            "2024-03-18 18:56:24,922 : INFO : EPOCH 3: training on 13 raw words (6 effective words) took 0.0s, 357313 effective words/s\n",
            "2024-03-18 18:56:24,925 : INFO : EPOCH 4: training on 13 raw words (5 effective words) took 0.0s, 21926 effective words/s\n",
            "2024-03-18 18:56:24,928 : INFO : Word2Vec lifecycle event {'msg': 'training on 65 raw words (27 effective words) took 0.0s, 1342 effective words/s', 'datetime': '2024-03-18T18:56:24.928056', 'gensim': '4.3.2', 'python': '3.9.18 (main, Sep 11 2023, 08:25:10) \\n[Clang 14.0.6 ]', 'platform': 'macOS-14.3.1-arm64-arm-64bit', 'event': 'train'}\n"
          ]
        }
      ],
      "source": [
        "model = gensim.models.Word2Vec.load(temporary_filepath)\n",
        "more_sentences = [\n",
        "    [\n",
        "        \"Advanced\",\n",
        "        \"users\",\n",
        "        \"can\",\n",
        "        \"load\",\n",
        "        \"a\",\n",
        "        \"model\",\n",
        "        \"and\",\n",
        "        \"continue\",\n",
        "        \"training\",\n",
        "        \"it\",\n",
        "        \"with\",\n",
        "        \"more\",\n",
        "        \"sentences\",\n",
        "    ],\n",
        "]\n",
        "model.build_vocab(more_sentences, update=True)\n",
        "model.train(more_sentences, total_examples=model.corpus_count, epochs=model.epochs)\n",
        "\n",
        "# cleaning up temporary file\n",
        "import os\n",
        "\n",
        "os.remove(temporary_filepath)"
      ]
    },
    {
      "cell_type": "markdown",
      "metadata": {},
      "source": [
        "You may need to tweak the `total_words` parameter to `train()`,\n",
        "depending on what learning rate decay you want to simulate.\n",
        "\n",
        "Note that it’s not possible to resume training with models generated by the C\n",
        "tool, `KeyedVectors.load_word2vec_format()`. You can still use them for\n",
        "querying/similarity, but information vital for training (the vocab tree) is\n",
        "missing there.\n"
      ]
    },
    {
      "cell_type": "markdown",
      "metadata": {},
      "source": [
        "## Training Loss Computation\n",
        "\n",
        "The parameter `compute_loss` can be used to toggle computation of loss\n",
        "while training the Word2Vec model. The computed loss is stored in the model\n",
        "attribute `running_training_loss` and can be retrieved using the function\n",
        "`get_latest_training_loss` as follows :\n"
      ]
    },
    {
      "cell_type": "code",
      "execution_count": 21,
      "metadata": {
        "collapsed": false
      },
      "outputs": [
        {
          "name": "stderr",
          "output_type": "stream",
          "text": [
            "2024-03-18 18:56:24,943 : INFO : collecting all words and their counts\n",
            "2024-03-18 18:56:24,946 : INFO : PROGRESS: at sentence #0, processed 0 words, keeping 0 word types\n",
            "2024-03-18 18:56:25,115 : INFO : collected 6981 word types from a corpus of 58152 raw words and 300 sentences\n",
            "2024-03-18 18:56:25,116 : INFO : Creating a fresh vocabulary\n",
            "2024-03-18 18:56:25,147 : INFO : Word2Vec lifecycle event {'msg': 'effective_min_count=1 retains 6981 unique words (100.00% of original 6981, drops 0)', 'datetime': '2024-03-18T18:56:25.147734', 'gensim': '4.3.2', 'python': '3.9.18 (main, Sep 11 2023, 08:25:10) \\n[Clang 14.0.6 ]', 'platform': 'macOS-14.3.1-arm64-arm-64bit', 'event': 'prepare_vocab'}\n",
            "2024-03-18 18:56:25,148 : INFO : Word2Vec lifecycle event {'msg': 'effective_min_count=1 leaves 58152 word corpus (100.00% of original 58152, drops 0)', 'datetime': '2024-03-18T18:56:25.148586', 'gensim': '4.3.2', 'python': '3.9.18 (main, Sep 11 2023, 08:25:10) \\n[Clang 14.0.6 ]', 'platform': 'macOS-14.3.1-arm64-arm-64bit', 'event': 'prepare_vocab'}\n",
            "2024-03-18 18:56:25,184 : INFO : deleting the raw counts dictionary of 6981 items\n",
            "2024-03-18 18:56:25,185 : INFO : sample=0.001 downsamples 43 most-common words\n",
            "2024-03-18 18:56:25,185 : INFO : Word2Vec lifecycle event {'msg': 'downsampling leaves estimated 45723.4541622429 word corpus (78.6%% of prior 58152)', 'datetime': '2024-03-18T18:56:25.185452', 'gensim': '4.3.2', 'python': '3.9.18 (main, Sep 11 2023, 08:25:10) \\n[Clang 14.0.6 ]', 'platform': 'macOS-14.3.1-arm64-arm-64bit', 'event': 'prepare_vocab'}\n",
            "2024-03-18 18:56:25,221 : INFO : estimated required memory for 6981 words and 100 dimensions: 9075300 bytes\n",
            "2024-03-18 18:56:25,221 : INFO : resetting layer weights\n",
            "2024-03-18 18:56:25,224 : INFO : Word2Vec lifecycle event {'update': False, 'trim_rule': 'None', 'datetime': '2024-03-18T18:56:25.224970', 'gensim': '4.3.2', 'python': '3.9.18 (main, Sep 11 2023, 08:25:10) \\n[Clang 14.0.6 ]', 'platform': 'macOS-14.3.1-arm64-arm-64bit', 'event': 'build_vocab'}\n",
            "2024-03-18 18:56:25,225 : INFO : Word2Vec lifecycle event {'msg': 'training model with 3 workers on 6981 vocabulary and 100 features, using sg=1 hs=0 sample=0.001 negative=5 window=5 shrink_windows=True', 'datetime': '2024-03-18T18:56:25.225424', 'gensim': '4.3.2', 'python': '3.9.18 (main, Sep 11 2023, 08:25:10) \\n[Clang 14.0.6 ]', 'platform': 'macOS-14.3.1-arm64-arm-64bit', 'event': 'train'}\n",
            "2024-03-18 18:56:25,439 : INFO : EPOCH 0: training on 58152 raw words (45668 effective words) took 0.2s, 215918 effective words/s\n",
            "2024-03-18 18:56:25,632 : INFO : EPOCH 1: training on 58152 raw words (45659 effective words) took 0.2s, 239589 effective words/s\n",
            "2024-03-18 18:56:25,784 : INFO : EPOCH 2: training on 58152 raw words (45695 effective words) took 0.1s, 326213 effective words/s\n",
            "2024-03-18 18:56:25,981 : INFO : EPOCH 3: training on 58152 raw words (45707 effective words) took 0.2s, 234305 effective words/s\n",
            "2024-03-18 18:56:26,211 : INFO : EPOCH 4: training on 58152 raw words (45808 effective words) took 0.2s, 203266 effective words/s\n",
            "2024-03-18 18:56:26,212 : INFO : Word2Vec lifecycle event {'msg': 'training on 290760 raw words (228537 effective words) took 1.0s, 231881 effective words/s', 'datetime': '2024-03-18T18:56:26.211983', 'gensim': '4.3.2', 'python': '3.9.18 (main, Sep 11 2023, 08:25:10) \\n[Clang 14.0.6 ]', 'platform': 'macOS-14.3.1-arm64-arm-64bit', 'event': 'train'}\n",
            "2024-03-18 18:56:26,212 : INFO : Word2Vec lifecycle event {'params': 'Word2Vec<vocab=6981, vector_size=100, alpha=0.025>', 'datetime': '2024-03-18T18:56:26.212405', 'gensim': '4.3.2', 'python': '3.9.18 (main, Sep 11 2023, 08:25:10) \\n[Clang 14.0.6 ]', 'platform': 'macOS-14.3.1-arm64-arm-64bit', 'event': 'created'}\n"
          ]
        },
        {
          "name": "stdout",
          "output_type": "stream",
          "text": [
            "1368733.25\n"
          ]
        }
      ],
      "source": [
        "# instantiating and training the Word2Vec model\n",
        "model_with_loss = gensim.models.Word2Vec(\n",
        "    sentences,\n",
        "    min_count=1,\n",
        "    compute_loss=True,\n",
        "    hs=0,\n",
        "    sg=1,\n",
        "    seed=42,\n",
        ")\n",
        "\n",
        "# getting the training loss value\n",
        "training_loss = model_with_loss.get_latest_training_loss()\n",
        "print(training_loss)"
      ]
    },
    {
      "cell_type": "markdown",
      "metadata": {},
      "source": [
        "## Benchmarks\n",
        "\n",
        "Let's run some benchmarks to see effect of the training loss computation code\n",
        "on training time.\n",
        "\n",
        "We'll use the following data for the benchmarks:\n",
        "\n",
        "#. Lee Background corpus: included in gensim's test data\n",
        "#. Text8 corpus. To demonstrate the effect of corpus size, we'll look at the\n",
        "first 1MB, 10MB, 50MB of the corpus, as well as the entire thing.\n"
      ]
    },
    {
      "cell_type": "code",
      "execution_count": 22,
      "metadata": {
        "collapsed": false
      },
      "outputs": [
        {
          "name": "stdout",
          "output_type": "stream",
          "text": [
            "[==================================================] 100.0% 31.6/31.6MB downloaded\n"
          ]
        },
        {
          "name": "stderr",
          "output_type": "stream",
          "text": [
            "2024-03-18 18:56:39,551 : INFO : text8 downloaded\n"
          ]
        }
      ],
      "source": [
        "import io\n",
        "import os\n",
        "\n",
        "import gensim.models.word2vec\n",
        "import gensim.downloader as api\n",
        "import smart_open\n",
        "\n",
        "\n",
        "def head(path, size):\n",
        "    with smart_open.open(path) as fin:\n",
        "        return io.StringIO(fin.read(size))\n",
        "\n",
        "\n",
        "def generate_input_data():\n",
        "    lee_path = datapath(\"lee_background.cor\")\n",
        "    ls = gensim.models.word2vec.LineSentence(lee_path)\n",
        "    ls.name = \"25kB\"\n",
        "    yield ls\n",
        "\n",
        "    text8_path = api.load(\"text8\").fn\n",
        "    labels = (\"1MB\", \"10MB\", \"50MB\", \"100MB\")\n",
        "    sizes = (1024**2, 10 * 1024**2, 50 * 1024**2, 100 * 1024**2)\n",
        "    for l, s in zip(labels, sizes):\n",
        "        ls = gensim.models.word2vec.LineSentence(head(text8_path, s))\n",
        "        ls.name = l\n",
        "        yield ls\n",
        "\n",
        "\n",
        "input_data = list(generate_input_data())"
      ]
    },
    {
      "cell_type": "markdown",
      "metadata": {},
      "source": [
        "We now compare the training time taken for different combinations of input\n",
        "data and model training parameters like `hs` and `sg`.\n",
        "\n",
        "For each combination, we repeat the test several times to obtain the mean and\n",
        "standard deviation of the test duration.\n"
      ]
    },
    {
      "cell_type": "code",
      "execution_count": null,
      "metadata": {
        "collapsed": false
      },
      "outputs": [],
      "source": [
        "# Temporarily reduce logging verbosity\n",
        "logging.root.level = logging.ERROR\n",
        "\n",
        "import time\n",
        "import numpy as np\n",
        "import pandas as pd\n",
        "\n",
        "train_time_values = []\n",
        "seed_val = 42\n",
        "sg_values = [0, 1]\n",
        "hs_values = [0, 1]\n",
        "\n",
        "fast = True\n",
        "if fast:\n",
        "    input_data_subset = input_data[:3]\n",
        "else:\n",
        "    input_data_subset = input_data\n",
        "\n",
        "\n",
        "for data in input_data_subset:\n",
        "    for sg_val in sg_values:\n",
        "        for hs_val in hs_values:\n",
        "            for loss_flag in [True, False]:\n",
        "                time_taken_list = []\n",
        "                for i in range(3):\n",
        "                    start_time = time.time()\n",
        "                    w2v_model = gensim.models.Word2Vec(\n",
        "                        data,\n",
        "                        compute_loss=loss_flag,\n",
        "                        sg=sg_val,\n",
        "                        hs=hs_val,\n",
        "                        seed=seed_val,\n",
        "                    )\n",
        "                    time_taken_list.append(time.time() - start_time)\n",
        "\n",
        "                time_taken_list = np.array(time_taken_list)\n",
        "                time_mean = np.mean(time_taken_list)\n",
        "                time_std = np.std(time_taken_list)\n",
        "\n",
        "                model_result = {\n",
        "                    \"train_data\": data.name,\n",
        "                    \"compute_loss\": loss_flag,\n",
        "                    \"sg\": sg_val,\n",
        "                    \"hs\": hs_val,\n",
        "                    \"train_time_mean\": time_mean,\n",
        "                    \"train_time_std\": time_std,\n",
        "                }\n",
        "                print(\"Word2vec model #%i: %s\" % (len(train_time_values), model_result))\n",
        "                train_time_values.append(model_result)\n",
        "\n",
        "train_times_table = pd.DataFrame(train_time_values)\n",
        "train_times_table = train_times_table.sort_values(\n",
        "    by=[\"train_data\", \"sg\", \"hs\", \"compute_loss\"],\n",
        "    ascending=[False, False, True, False],\n",
        ")\n",
        "print(train_times_table)"
      ]
    },
    {
      "cell_type": "markdown",
      "metadata": {},
      "source": [
        "## Visualising Word Embeddings\n",
        "\n",
        "The word embeddings made by the model can be visualised by reducing\n",
        "dimensionality of the words to 2 dimensions using tSNE.\n",
        "\n",
        "Visualisations can be used to notice semantic and syntactic trends in the data.\n",
        "\n",
        "Example:\n",
        "\n",
        "- Semantic: words like cat, dog, cow, etc. have a tendency to lie close by\n",
        "- Syntactic: words like run, running or cut, cutting lie close together.\n",
        "\n",
        "Vector relations like vKing - vMan = vQueen - vWoman can also be noticed.\n",
        "\n",
        ".. Important::\n",
        "The model used for the visualisation is trained on a small corpus. Thus\n",
        "some of the relations might not be so clear.\n"
      ]
    },
    {
      "cell_type": "code",
      "execution_count": null,
      "metadata": {
        "collapsed": false
      },
      "outputs": [],
      "source": [
        "from sklearn.decomposition import IncrementalPCA  # inital reduction\n",
        "from sklearn.manifold import TSNE  # final reduction\n",
        "import numpy as np  # array handling\n",
        "\n",
        "\n",
        "def reduce_dimensions(model):\n",
        "    num_dimensions = 2  # final num dimensions (2D, 3D, etc)\n",
        "\n",
        "    # extract the words & their vectors, as numpy arrays\n",
        "    vectors = np.asarray(model.wv.vectors)\n",
        "    labels = np.asarray(model.wv.index_to_key)  # fixed-width numpy strings\n",
        "\n",
        "    # reduce using t-SNE\n",
        "    tsne = TSNE(n_components=num_dimensions, random_state=0)\n",
        "    vectors = tsne.fit_transform(vectors)\n",
        "\n",
        "    x_vals = [v[0] for v in vectors]\n",
        "    y_vals = [v[1] for v in vectors]\n",
        "    return x_vals, y_vals, labels\n",
        "\n",
        "\n",
        "x_vals, y_vals, labels = reduce_dimensions(model)\n",
        "\n",
        "\n",
        "def plot_with_plotly(x_vals, y_vals, labels, plot_in_notebook=True):\n",
        "    from plotly.offline import init_notebook_mode, iplot, plot\n",
        "    import plotly.graph_objs as go\n",
        "\n",
        "    trace = go.Scatter(x=x_vals, y=y_vals, mode=\"text\", text=labels)\n",
        "    data = [trace]\n",
        "\n",
        "    if plot_in_notebook:\n",
        "        init_notebook_mode(connected=True)\n",
        "        iplot(data, filename=\"word-embedding-plot\")\n",
        "    else:\n",
        "        plot(data, filename=\"word-embedding-plot.html\")\n",
        "\n",
        "\n",
        "def plot_with_matplotlib(x_vals, y_vals, labels):\n",
        "    import matplotlib.pyplot as plt\n",
        "    import random\n",
        "\n",
        "    random.seed(0)\n",
        "\n",
        "    plt.figure(figsize=(12, 12))\n",
        "    plt.scatter(x_vals, y_vals)\n",
        "\n",
        "    #\n",
        "    # Label randomly subsampled 25 data points\n",
        "    #\n",
        "    indices = list(range(len(labels)))\n",
        "    selected_indices = random.sample(indices, 25)\n",
        "    for i in selected_indices:\n",
        "        plt.annotate(labels[i], (x_vals[i], y_vals[i]))\n",
        "\n",
        "\n",
        "try:\n",
        "    get_ipython()\n",
        "except Exception:\n",
        "    plot_function = plot_with_matplotlib\n",
        "else:\n",
        "    plot_function = plot_with_plotly\n",
        "\n",
        "plot_function(x_vals, y_vals, labels)"
      ]
    },
    {
      "cell_type": "markdown",
      "metadata": {},
      "source": [
        "## Conclusion\n",
        "\n",
        "In this tutorial we learned how to train word2vec models on your custom data\n",
        "and also how to evaluate it. Hope that you too will find this popular tool\n",
        "useful in your Machine Learning tasks!\n",
        "\n",
        "## Links\n",
        "\n",
        "- API docs: :py:mod:`gensim.models.word2vec`\n",
        "- `Original C toolkit and word2vec papers by Google <https://code.google.com/archive/p/word2vec/>`\\_.\n"
      ]
    }
  ],
  "metadata": {
    "kernelspec": {
      "display_name": "Python 3",
      "language": "python",
      "name": "python3"
    },
    "language_info": {
      "codemirror_mode": {
        "name": "ipython",
        "version": 3
      },
      "file_extension": ".py",
      "mimetype": "text/x-python",
      "name": "python",
      "nbconvert_exporter": "python",
      "pygments_lexer": "ipython3",
      "version": "3.9.18"
    }
  },
  "nbformat": 4,
  "nbformat_minor": 0
}
