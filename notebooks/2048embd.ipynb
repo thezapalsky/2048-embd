{
 "cells": [
  {
   "cell_type": "markdown",
   "metadata": {},
   "source": [
    "### 18/03/2024\n",
    "- https://radimrehurek.com/gensim/models/keyedvectors.html"
   ]
  },
  {
   "cell_type": "code",
   "execution_count": 1,
   "metadata": {},
   "outputs": [],
   "source": [
    "import gensim.downloader as api\n",
    "\n",
    "wv = api.load(\"word2vec-google-news-300\")"
   ]
  },
  {
   "cell_type": "code",
   "execution_count": 3,
   "metadata": {},
   "outputs": [
    {
     "data": {
      "text/plain": [
       "(0.7609457, 0.7609457)"
      ]
     },
     "execution_count": 3,
     "metadata": {},
     "output_type": "execute_result"
    }
   ],
   "source": [
    "wv.similarity(\"cat\", \"dog\"), wv.similarity(\"dog\", \"cat\")"
   ]
  },
  {
   "cell_type": "code",
   "execution_count": 4,
   "metadata": {},
   "outputs": [
    {
     "name": "stdout",
     "output_type": "stream",
     "text": [
      "[('SUV', 0.8532192707061768), ('vehicle', 0.8175783753395081), ('pickup_truck', 0.7763689756393433), ('Jeep', 0.7567334175109863), ('Ford_Explorer', 0.7565719485282898)]\n"
     ]
    }
   ],
   "source": [
    "print(wv.most_similar(positive=[\"car\", \"minivan\"], topn=5))"
   ]
  },
  {
   "cell_type": "code",
   "execution_count": 5,
   "metadata": {},
   "outputs": [
    {
     "name": "stdout",
     "output_type": "stream",
     "text": [
      "car\n"
     ]
    }
   ],
   "source": [
    "print(wv.doesnt_match([\"fire\", \"water\", \"land\", \"sea\", \"air\", \"car\"]))"
   ]
  },
  {
   "cell_type": "code",
   "execution_count": 6,
   "metadata": {},
   "outputs": [
    {
     "data": {
      "text/plain": [
       "gensim.models.keyedvectors.KeyedVectors"
      ]
     },
     "execution_count": 6,
     "metadata": {},
     "output_type": "execute_result"
    }
   ],
   "source": [
    "type(wv)"
   ]
  },
  {
   "cell_type": "code",
   "execution_count": 30,
   "metadata": {},
   "outputs": [
    {
     "data": {
      "text/plain": [
       "[('queen', 0.7118192911148071)]"
      ]
     },
     "execution_count": 30,
     "metadata": {},
     "output_type": "execute_result"
    }
   ],
   "source": [
    "wv.most_similar(positive=[\"king\", \"woman\"], negative=[\"man\"], topn=1)"
   ]
  },
  {
   "cell_type": "code",
   "execution_count": 29,
   "metadata": {},
   "outputs": [
    {
     "data": {
      "text/plain": [
       "[('queen', 0.7118192911148071),\n",
       " ('monarch', 0.6189674735069275),\n",
       " ('princess', 0.5902431011199951),\n",
       " ('crown_prince', 0.5499460697174072),\n",
       " ('prince', 0.5377321243286133),\n",
       " ('kings', 0.5236844420433044),\n",
       " ('Queen_Consort', 0.5235945582389832),\n",
       " ('queens', 0.5181134343147278),\n",
       " ('sultan', 0.5098593235015869),\n",
       " ('monarchy', 0.5087411403656006)]"
      ]
     },
     "execution_count": 29,
     "metadata": {},
     "output_type": "execute_result"
    }
   ],
   "source": [
    "wv.most_similar(positive=[\"king\", \"woman\"], negative=[\"man\"])"
   ]
  },
  {
   "cell_type": "code",
   "execution_count": 32,
   "metadata": {},
   "outputs": [
    {
     "data": {
      "text/plain": [
       "[('Milan', 0.7222140431404114),\n",
       " ('Rome', 0.702830970287323),\n",
       " ('Palermo_Sicily', 0.5967571139335632),\n",
       " ('Italian', 0.5911272764205933),\n",
       " ('Tuscany', 0.5632812976837158),\n",
       " ('Bologna', 0.5608358383178711),\n",
       " ('Sicily', 0.5596384406089783),\n",
       " ('Bologna_Italy', 0.5470059514045715),\n",
       " ('Berna_Milan', 0.5464028120040894),\n",
       " ('Genoa', 0.5308900475502014)]"
      ]
     },
     "execution_count": 32,
     "metadata": {},
     "output_type": "execute_result"
    }
   ],
   "source": [
    "wv.most_similar(positive=[\"Paris\", \"Italy\"], negative=[\"France\"])"
   ]
  },
  {
   "cell_type": "code",
   "execution_count": 33,
   "metadata": {},
   "outputs": [
    {
     "data": {
      "text/plain": [
       "[('cars', 0.47985127568244934),\n",
       " ('intercity_trains', 0.46375566720962524),\n",
       " ('vehicle', 0.46323344111442566),\n",
       " ('trains', 0.4578455090522766),\n",
       " ('locomotive', 0.45639002323150635),\n",
       " ('train', 0.4553319811820984),\n",
       " ('commuter_trains', 0.4451136589050293),\n",
       " ('Car', 0.4436630606651306),\n",
       " ('commuter_train', 0.4407064616680145),\n",
       " ('passenger', 0.4377858638763428)]"
      ]
     },
     "execution_count": 33,
     "metadata": {},
     "output_type": "execute_result"
    }
   ],
   "source": [
    "wv.most_similar(positive=[\"car\", \"rail\"], negative=[\"road\"])"
   ]
  },
  {
   "cell_type": "code",
   "execution_count": 34,
   "metadata": {},
   "outputs": [
    {
     "data": {
      "text/plain": [
       "[('brown', 0.506827712059021),\n",
       " ('Bermuda_grass', 0.5015184879302979),\n",
       " ('rye_grass', 0.4857252538204193),\n",
       " ('bermuda_grass', 0.4660400152206421),\n",
       " ('striped', 0.46460556983947754),\n",
       " ('maroon', 0.4637080430984497),\n",
       " ('burgundy', 0.45488324761390686),\n",
       " ('grasslike', 0.4411235451698303),\n",
       " ('mondo_grass', 0.43978220224380493),\n",
       " ('lime_green', 0.4392150938510895)]"
      ]
     },
     "execution_count": 34,
     "metadata": {},
     "output_type": "execute_result"
    }
   ],
   "source": [
    "wv.most_similar(positive=[\"blue\", \"grass\"], negative=[\"sky\"])"
   ]
  },
  {
   "cell_type": "markdown",
   "metadata": {},
   "source": [
    "### App protype"
   ]
  },
  {
   "cell_type": "code",
   "execution_count": 36,
   "metadata": {},
   "outputs": [
    {
     "data": {
      "text/plain": [
       "[('Warsaw', 0.7734050154685974),\n",
       " ('Prague', 0.6898577809333801),\n",
       " ('Budapest', 0.6714176535606384)]"
      ]
     },
     "execution_count": 36,
     "metadata": {},
     "output_type": "execute_result"
    }
   ],
   "source": [
    "base = \"Paris\"\n",
    "more = \"Poland\"\n",
    "less = \"France\"\n",
    "\n",
    "wv.most_similar(positive=[base, more], negative=[less], topn=3)"
   ]
  },
  {
   "cell_type": "code",
   "execution_count": 37,
   "metadata": {},
   "outputs": [
    {
     "data": {
      "text/plain": [
       "[('boy', 0.5969123840332031),\n",
       " ('prince', 0.5720531344413757),\n",
       " ('woman', 0.5706883072853088),\n",
       " ('kings', 0.5703803896903992),\n",
       " ('teenager', 0.5386132597923279),\n",
       " ('monarch', 0.5302838087081909),\n",
       " ('crown_prince', 0.530085027217865),\n",
       " ('queen', 0.5214537978172302),\n",
       " ('ruler', 0.5094804167747498),\n",
       " ('emperor', 0.5035953521728516)]"
      ]
     },
     "execution_count": 37,
     "metadata": {},
     "output_type": "execute_result"
    }
   ],
   "source": [
    "wv.most_similar(positive=[\"king\", \"man\"])"
   ]
  },
  {
   "cell_type": "code",
   "execution_count": 38,
   "metadata": {},
   "outputs": [
    {
     "data": {
      "text/plain": [
       "[('kings', 0.4295138120651245),\n",
       " ('queen', 0.39028695225715637),\n",
       " ('Pansy_Ho_Chiu', 0.38272255659103394),\n",
       " ('monarch', 0.3633837103843689),\n",
       " ('kingdom', 0.361450731754303),\n",
       " ('royal_palace', 0.3535977900028229),\n",
       " ('Savory_aromas_wafted', 0.35272470116615295),\n",
       " ('princes', 0.3526379466056824),\n",
       " ('monarchy', 0.3432357609272003),\n",
       " ('Rama_VII', 0.3380342721939087)]"
      ]
     },
     "execution_count": 38,
     "metadata": {},
     "output_type": "execute_result"
    }
   ],
   "source": [
    "wv.most_similar(positive=[\"king\"], negative=[\"man\"])"
   ]
  }
 ],
 "metadata": {
  "kernelspec": {
   "display_name": "py39",
   "language": "python",
   "name": "python3"
  },
  "language_info": {
   "codemirror_mode": {
    "name": "ipython",
    "version": 3
   },
   "file_extension": ".py",
   "mimetype": "text/x-python",
   "name": "python",
   "nbconvert_exporter": "python",
   "pygments_lexer": "ipython3",
   "version": "3.9.18"
  }
 },
 "nbformat": 4,
 "nbformat_minor": 2
}
