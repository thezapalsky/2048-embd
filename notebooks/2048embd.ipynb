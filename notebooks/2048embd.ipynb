{
 "cells": [
  {
   "cell_type": "markdown",
   "metadata": {},
   "source": [
    "### 18/03/2024\n",
    "- https://radimrehurek.com/gensim/models/keyedvectors.html"
   ]
  },
  {
   "cell_type": "code",
   "execution_count": 2,
   "metadata": {},
   "outputs": [],
   "source": [
    "import gensim.downloader as api\n",
    "\n",
    "wv = api.load(\"word2vec-google-news-300\")"
   ]
  },
  {
   "cell_type": "code",
   "execution_count": 3,
   "metadata": {},
   "outputs": [
    {
     "data": {
      "text/plain": [
       "(0.7609457, 0.7609457)"
      ]
     },
     "execution_count": 3,
     "metadata": {},
     "output_type": "execute_result"
    }
   ],
   "source": [
    "wv.similarity(\"cat\", \"dog\"), wv.similarity(\"dog\", \"cat\")"
   ]
  },
  {
   "cell_type": "code",
   "execution_count": 4,
   "metadata": {},
   "outputs": [
    {
     "name": "stdout",
     "output_type": "stream",
     "text": [
      "[('SUV', 0.8532192707061768)]\n"
     ]
    }
   ],
   "source": [
    "print(wv.most_similar(positive=[\"car\", \"minivan\"], topn=1))"
   ]
  },
  {
   "cell_type": "code",
   "execution_count": 5,
   "metadata": {},
   "outputs": [
    {
     "name": "stdout",
     "output_type": "stream",
     "text": [
      "car\n"
     ]
    }
   ],
   "source": [
    "print(wv.doesnt_match([\"fire\", \"water\", \"land\", \"sea\", \"air\", \"car\"]))"
   ]
  },
  {
   "cell_type": "code",
   "execution_count": 6,
   "metadata": {},
   "outputs": [
    {
     "data": {
      "text/plain": [
       "gensim.models.keyedvectors.KeyedVectors"
      ]
     },
     "execution_count": 6,
     "metadata": {},
     "output_type": "execute_result"
    }
   ],
   "source": [
    "type(wv)"
   ]
  },
  {
   "cell_type": "code",
   "execution_count": 7,
   "metadata": {},
   "outputs": [
    {
     "data": {
      "text/plain": [
       "[('queen', 0.7118192911148071)]"
      ]
     },
     "execution_count": 7,
     "metadata": {},
     "output_type": "execute_result"
    }
   ],
   "source": [
    "wv.most_similar(positive=[\"king\", \"woman\"], negative=[\"man\"], topn=1)"
   ]
  },
  {
   "cell_type": "code",
   "execution_count": 8,
   "metadata": {},
   "outputs": [
    {
     "data": {
      "text/plain": [
       "[('queen', 0.7118192911148071),\n",
       " ('monarch', 0.6189674735069275),\n",
       " ('princess', 0.5902431011199951),\n",
       " ('crown_prince', 0.5499460697174072),\n",
       " ('prince', 0.5377321243286133),\n",
       " ('kings', 0.5236844420433044),\n",
       " ('Queen_Consort', 0.5235945582389832),\n",
       " ('queens', 0.5181134343147278),\n",
       " ('sultan', 0.5098593235015869),\n",
       " ('monarchy', 0.5087411403656006)]"
      ]
     },
     "execution_count": 8,
     "metadata": {},
     "output_type": "execute_result"
    }
   ],
   "source": [
    "wv.most_similar(positive=[\"king\", \"woman\"], negative=[\"man\"])"
   ]
  },
  {
   "cell_type": "code",
   "execution_count": 9,
   "metadata": {},
   "outputs": [
    {
     "data": {
      "text/plain": [
       "[('Milan', 0.7222140431404114),\n",
       " ('Rome', 0.702830970287323),\n",
       " ('Palermo_Sicily', 0.5967571139335632),\n",
       " ('Italian', 0.5911272764205933),\n",
       " ('Tuscany', 0.5632812976837158),\n",
       " ('Bologna', 0.5608358383178711),\n",
       " ('Sicily', 0.5596384406089783),\n",
       " ('Bologna_Italy', 0.5470059514045715),\n",
       " ('Berna_Milan', 0.5464028120040894),\n",
       " ('Genoa', 0.5308900475502014)]"
      ]
     },
     "execution_count": 9,
     "metadata": {},
     "output_type": "execute_result"
    }
   ],
   "source": [
    "wv.most_similar(positive=[\"Paris\", \"Italy\"], negative=[\"France\"])"
   ]
  },
  {
   "cell_type": "code",
   "execution_count": 10,
   "metadata": {},
   "outputs": [
    {
     "data": {
      "text/plain": [
       "[('cars', 0.47985127568244934),\n",
       " ('intercity_trains', 0.46375566720962524),\n",
       " ('vehicle', 0.46323344111442566),\n",
       " ('trains', 0.4578455090522766),\n",
       " ('locomotive', 0.45639002323150635),\n",
       " ('train', 0.4553319811820984),\n",
       " ('commuter_trains', 0.4451136589050293),\n",
       " ('Car', 0.4436630606651306),\n",
       " ('commuter_train', 0.4407064616680145),\n",
       " ('passenger', 0.4377858638763428)]"
      ]
     },
     "execution_count": 10,
     "metadata": {},
     "output_type": "execute_result"
    }
   ],
   "source": [
    "wv.most_similar(positive=[\"car\", \"rail\"], negative=[\"road\"])"
   ]
  },
  {
   "cell_type": "code",
   "execution_count": 11,
   "metadata": {},
   "outputs": [
    {
     "data": {
      "text/plain": [
       "[('brown', 0.506827712059021),\n",
       " ('Bermuda_grass', 0.5015184879302979),\n",
       " ('rye_grass', 0.4857252538204193),\n",
       " ('bermuda_grass', 0.4660400152206421),\n",
       " ('striped', 0.46460556983947754),\n",
       " ('maroon', 0.4637080430984497),\n",
       " ('burgundy', 0.45488324761390686),\n",
       " ('grasslike', 0.4411235451698303),\n",
       " ('mondo_grass', 0.43978220224380493),\n",
       " ('lime_green', 0.4392150938510895)]"
      ]
     },
     "execution_count": 11,
     "metadata": {},
     "output_type": "execute_result"
    }
   ],
   "source": [
    "wv.most_similar(positive=[\"blue\", \"grass\"], negative=[\"sky\"])"
   ]
  },
  {
   "cell_type": "markdown",
   "metadata": {},
   "source": [
    "### App protype"
   ]
  },
  {
   "cell_type": "code",
   "execution_count": 12,
   "metadata": {},
   "outputs": [
    {
     "data": {
      "text/plain": [
       "[('Warsaw', 0.7734050154685974)]"
      ]
     },
     "execution_count": 12,
     "metadata": {},
     "output_type": "execute_result"
    }
   ],
   "source": [
    "base = \"Paris\"\n",
    "more = \"Poland\"\n",
    "less = \"France\"\n",
    "\n",
    "wv.most_similar(positive=[base, more], negative=[less], topn=1)"
   ]
  },
  {
   "cell_type": "code",
   "execution_count": 13,
   "metadata": {},
   "outputs": [
    {
     "data": {
      "text/plain": [
       "[('boy', 0.5969123840332031),\n",
       " ('prince', 0.5720531344413757),\n",
       " ('woman', 0.5706883072853088),\n",
       " ('kings', 0.5703803896903992),\n",
       " ('teenager', 0.5386132597923279),\n",
       " ('monarch', 0.5302838087081909),\n",
       " ('crown_prince', 0.530085027217865),\n",
       " ('queen', 0.5214537978172302),\n",
       " ('ruler', 0.5094804167747498),\n",
       " ('emperor', 0.5035953521728516)]"
      ]
     },
     "execution_count": 13,
     "metadata": {},
     "output_type": "execute_result"
    }
   ],
   "source": [
    "wv.most_similar(positive=[\"king\", \"man\"])"
   ]
  },
  {
   "cell_type": "code",
   "execution_count": 14,
   "metadata": {},
   "outputs": [
    {
     "data": {
      "text/plain": [
       "[('kings', 0.4295138120651245),\n",
       " ('queen', 0.39028695225715637),\n",
       " ('Pansy_Ho_Chiu', 0.38272255659103394),\n",
       " ('monarch', 0.3633837103843689),\n",
       " ('kingdom', 0.361450731754303),\n",
       " ('royal_palace', 0.3535977900028229),\n",
       " ('Savory_aromas_wafted', 0.35272470116615295),\n",
       " ('princes', 0.3526379466056824),\n",
       " ('monarchy', 0.3432357609272003),\n",
       " ('Rama_VII', 0.3380342721939087)]"
      ]
     },
     "execution_count": 14,
     "metadata": {},
     "output_type": "execute_result"
    }
   ],
   "source": [
    "wv.most_similar(positive=[\"king\"], negative=[\"man\"])"
   ]
  },
  {
   "cell_type": "code",
   "execution_count": 15,
   "metadata": {},
   "outputs": [
    {
     "data": {
      "text/plain": [
       "'Jesyca_Rosholt'"
      ]
     },
     "execution_count": 15,
     "metadata": {},
     "output_type": "execute_result"
    }
   ],
   "source": [
    "import random\n",
    "random_word = random.choice(wv.index_to_key)\n",
    "random_word\n"
   ]
  },
  {
   "cell_type": "code",
   "execution_count": 77,
   "metadata": {},
   "outputs": [],
   "source": [
    "import requests\n",
    "\n",
    "def get_words_corpus():\n",
    "\n",
    "    # word_site = \"https://www.mit.edu/~ecprice/wordlist.10000\"\n",
    "    word_site = \"https://raw.githubusercontent.com/edthrn/most-common-english-words/master/nouns.txt\"\n",
    "    response = requests.get(word_site)\n",
    "    WORDS = response.content.splitlines()\n",
    "    WORDS = [word.decode(\"utf-8\") for word in WORDS]\n",
    "    return WORDS\n",
    "\n",
    "def get_random_word():\n",
    "    return random.choice(WORDS)\n",
    "\n",
    "WORDS = get_words_corpus()"
   ]
  },
  {
   "cell_type": "code",
   "execution_count": 66,
   "metadata": {},
   "outputs": [
    {
     "data": {
      "text/plain": [
       "'reserve'"
      ]
     },
     "execution_count": 66,
     "metadata": {},
     "output_type": "execute_result"
    }
   ],
   "source": [
    "get_random_word()"
   ]
  },
  {
   "cell_type": "code",
   "execution_count": 67,
   "metadata": {},
   "outputs": [
    {
     "data": {
      "text/plain": [
       "1522"
      ]
     },
     "execution_count": 67,
     "metadata": {},
     "output_type": "execute_result"
    }
   ],
   "source": [
    "len(WORDS)"
   ]
  },
  {
   "cell_type": "code",
   "execution_count": 29,
   "metadata": {},
   "outputs": [
    {
     "data": {
      "text/plain": [
       "3000000"
      ]
     },
     "execution_count": 29,
     "metadata": {},
     "output_type": "execute_result"
    }
   ],
   "source": [
    "len(wv.key_to_index)"
   ]
  },
  {
   "cell_type": "code",
   "execution_count": 30,
   "metadata": {},
   "outputs": [
    {
     "data": {
      "text/plain": [
       "[('Warsaw', 0.7734050154685974)]"
      ]
     },
     "execution_count": 30,
     "metadata": {},
     "output_type": "execute_result"
    }
   ],
   "source": [
    "wv.most_similar(positive=[base, more], negative=[less], topn=1)"
   ]
  },
  {
   "cell_type": "code",
   "execution_count": 41,
   "metadata": {},
   "outputs": [
    {
     "name": "stdout",
     "output_type": "stream",
     "text": [
      "None of the words from the list are present in the KeyedVectors object.\n"
     ]
    }
   ],
   "source": [
    "filtered_words = [word for word in WORDS if word in wv.key_to_index]\n",
    "\n",
    "# Select a random word from the filtered list\n",
    "if filtered_words:\n",
    "    random_word = random.choice(filtered_words)\n",
    "    # Get the most similar words to the randomly selected word\n",
    "    similar_words = wv.most_similar(random_word)\n",
    "    print(\"Similar words to\", random_word, \":\", similar_words)\n",
    "else:\n",
    "    print(\"None of the words from the list are present in the KeyedVectors object.\")\n"
   ]
  },
  {
   "cell_type": "code",
   "execution_count": 73,
   "metadata": {},
   "outputs": [
    {
     "ename": "TypeError",
     "evalue": "'NoneType' object is not subscriptable",
     "output_type": "error",
     "traceback": [
      "\u001b[0;31m---------------------------------------------------------------------------\u001b[0m",
      "\u001b[0;31mTypeError\u001b[0m                                 Traceback (most recent call last)",
      "Cell \u001b[0;32mIn[73], line 1\u001b[0m\n\u001b[0;32m----> 1\u001b[0m \u001b[43mrandom\u001b[49m\u001b[38;5;241;43m.\u001b[39;49m\u001b[43mshuffle\u001b[49m\u001b[43m(\u001b[49m\u001b[43mWORDS\u001b[49m\u001b[38;5;241;43m.\u001b[39;49m\u001b[43mcopy\u001b[49m\u001b[43m(\u001b[49m\u001b[43m)\u001b[49m\u001b[43m)\u001b[49m\u001b[43m[\u001b[49m\u001b[38;5;241;43m0\u001b[39;49m\u001b[43m]\u001b[49m\n",
      "\u001b[0;31mTypeError\u001b[0m: 'NoneType' object is not subscriptable"
     ]
    }
   ],
   "source": [
    "random.shuffle(WORDS.copy())"
   ]
  },
  {
   "cell_type": "code",
   "execution_count": 59,
   "metadata": {},
   "outputs": [
    {
     "data": {
      "text/plain": [
       "1522"
      ]
     },
     "execution_count": 59,
     "metadata": {},
     "output_type": "execute_result"
    }
   ],
   "source": [
    "len(WORDS)"
   ]
  },
  {
   "cell_type": "code",
   "execution_count": 80,
   "metadata": {},
   "outputs": [],
   "source": [
    "random.shuffle(WORDS)"
   ]
  },
  {
   "cell_type": "code",
   "execution_count": 81,
   "metadata": {},
   "outputs": [
    {
     "data": {
      "text/plain": [
       "'formal'"
      ]
     },
     "execution_count": 81,
     "metadata": {},
     "output_type": "execute_result"
    }
   ],
   "source": [
    "WORDS[0]"
   ]
  },
  {
   "cell_type": "code",
   "execution_count": 69,
   "metadata": {},
   "outputs": [
    {
     "name": "stdout",
     "output_type": "stream",
     "text": [
      "lessons\n",
      "woodsmanship\n",
      "hunter\n",
      "turkey_hunting\n",
      "deer_hunting\n",
      "hunters\n",
      "Hunting\n",
      "hunt\n",
      "('hunt', 0.534992516040802)\n"
     ]
    }
   ],
   "source": [
    "for item in wv.most_similar(positive=[\"hunting\", \"lesson\"], topn=1000):\n",
    "    print(item[0])\n",
    "    if item[0] in WORDS:\n",
    "         print(item)\n",
    "         break"
   ]
  },
  {
   "cell_type": "code",
   "execution_count": 44,
   "metadata": {},
   "outputs": [
    {
     "data": {
      "text/plain": [
       "[('lessons', 0.6449723839759827),\n",
       " ('woodsmanship', 0.5753114223480225),\n",
       " ('hunter', 0.567424476146698),\n",
       " ('turkey_hunting', 0.5674206614494324),\n",
       " ('deer_hunting', 0.5654113292694092),\n",
       " ('hunters', 0.5474114418029785),\n",
       " ('Hunting', 0.5393069982528687),\n",
       " ('hunt', 0.534992516040802),\n",
       " ('hunts', 0.5349746346473694),\n",
       " ('duck_hunting', 0.5344365239143372),\n",
       " ('squirrel_hunting', 0.5325070023536682),\n",
       " ('waterfowling', 0.5300555229187012),\n",
       " ('bowhunting', 0.5295457243919373),\n",
       " ('pheasant_hunting', 0.5165870189666748),\n",
       " ('furtaking', 0.5093018412590027),\n",
       " ('quail_hunting', 0.5074768662452698),\n",
       " ('archery', 0.503913402557373),\n",
       " ('shoot_skeet', 0.503498375415802),\n",
       " ('pheasant_hunts', 0.5001801252365112),\n",
       " ('goose_hunting', 0.49853891134262085),\n",
       " ('muzzle_loading', 0.49646833539009094),\n",
       " ('shed_antler', 0.49636268615722656),\n",
       " ('goose_hunts', 0.491944283246994),\n",
       " ('fishing', 0.48961105942726135),\n",
       " ('muzzleloader_deer', 0.4868355393409729),\n",
       " ('pheasant_hunt', 0.4846011996269226),\n",
       " ('Lessons', 0.48276597261428833),\n",
       " ('hunted', 0.482410192489624),\n",
       " ('bowhunter', 0.48208197951316833),\n",
       " ('dove_hunting', 0.4820251166820526),\n",
       " ('hunt_pheasants', 0.48160141706466675),\n",
       " ('grouse_hunting', 0.4808538556098938),\n",
       " ('flycasting', 0.4799867570400238),\n",
       " ('muzzleloading', 0.47868993878364563),\n",
       " ('turkey_hunts', 0.47592779994010925),\n",
       " ('crossbow_hunting', 0.4748145043849945),\n",
       " ('shoot_clay_pigeons', 0.47465336322784424),\n",
       " ('whitetail_hunting', 0.4743190407752991),\n",
       " ('refresher_course', 0.4713640809059143),\n",
       " ('turkey_hunter', 0.4712669253349304),\n",
       " ('muzzleloading_gun', 0.4704652428627014),\n",
       " ('woodcock_hunting', 0.4702213704586029),\n",
       " ('archery_muzzleloading', 0.4698592722415924),\n",
       " ('teach', 0.4695138931274414),\n",
       " ('muzzleloader_deer_hunting', 0.4681199789047241),\n",
       " ('waterfowl_hunting', 0.4666009247303009),\n",
       " ('nonhunters', 0.46541741490364075),\n",
       " ('waterfowl_hunter', 0.465214341878891),\n",
       " ('deer_hunts', 0.46275201439857483),\n",
       " ('mushroom_foraging', 0.46115052700042725),\n",
       " ('lession', 0.4598652422428131),\n",
       " ('elk_hunts', 0.4591638743877411),\n",
       " ('elk_hunting', 0.4565031826496124),\n",
       " ('bowhunt', 0.4562714099884033),\n",
       " ('deer_hunter', 0.4559350907802582),\n",
       " ('Muzzle_loading', 0.4552387297153473),\n",
       " ('nonhunting', 0.45505282282829285),\n",
       " ('coon_hunting', 0.45486047863960266),\n",
       " ('bushcraft', 0.45331552624702454),\n",
       " ('Migratory_bird', 0.45250245928764343),\n",
       " ('Lawhern', 0.4503403604030609),\n",
       " ('falconry', 0.45002034306526184),\n",
       " ('Waterfowl_hunting', 0.4491850435733795),\n",
       " ('whitetail_deer_hunting', 0.448863685131073),\n",
       " ('upland_bird', 0.4483727216720581),\n",
       " ('camping_hiking_canoeing', 0.4474920332431793),\n",
       " ('archery_muzzleloader', 0.44733917713165283),\n",
       " ('Firearm_deer', 0.44661974906921387),\n",
       " ('horseback_riding', 0.44653216004371643),\n",
       " ('decoy_carving', 0.4463878870010376),\n",
       " ('deer_elk_moose', 0.44623246788978577),\n",
       " ('waterfowler', 0.44540151953697205),\n",
       " ('frog_gigging', 0.44513648748397827),\n",
       " ('TOM_VENESKY_OUTDOORS', 0.4450148046016693),\n",
       " ('basketweaving', 0.4447900950908661),\n",
       " ('canoeing_camping', 0.44453880190849304),\n",
       " ('woodcutting', 0.4443526268005371),\n",
       " ('ringneck_pheasant', 0.443680077791214),\n",
       " ('mountainman', 0.442231148481369),\n",
       " ('bowhunter_education', 0.44187185168266296),\n",
       " ('wingshooting', 0.4412594735622406),\n",
       " ('WHEN_NATURE_CALLS', 0.44113948941230774),\n",
       " ('statewide_muzzleloader_deer', 0.44068434834480286),\n",
       " ('varmint_hunting', 0.44020065665245056),\n",
       " ('Nottonson', 0.4385247826576233),\n",
       " ('gunsmithing', 0.4384368360042572),\n",
       " ('coon_hunt', 0.4377559721469879),\n",
       " ('Here_endeth', 0.43757176399230957),\n",
       " ('muzzle_loader', 0.437029093503952),\n",
       " ('Nirlungayuk', 0.43692225217819214),\n",
       " ('houndsmen', 0.43651753664016724),\n",
       " ('whitetail_hunters', 0.43636777997016907),\n",
       " ('quail_pheasant', 0.4361303746700287),\n",
       " ('archery_canoeing', 0.4355446398258209),\n",
       " ('muzzleloader_hunting', 0.435063898563385),\n",
       " ('Dean_Shadley', 0.4350217878818512),\n",
       " ('archery_elk', 0.43473291397094727),\n",
       " ('huntin', 0.4343363046646118),\n",
       " ('elk_antelope', 0.43428340554237366),\n",
       " ('rabbit_squirrel', 0.4337857961654663)]"
      ]
     },
     "execution_count": 44,
     "metadata": {},
     "output_type": "execute_result"
    }
   ],
   "source": [
    "wv.most_similar(positive=[\"hunting\", \"lesson\"], topn=100)"
   ]
  }
 ],
 "metadata": {
  "kernelspec": {
   "display_name": "py39",
   "language": "python",
   "name": "python3"
  },
  "language_info": {
   "codemirror_mode": {
    "name": "ipython",
    "version": 3
   },
   "file_extension": ".py",
   "mimetype": "text/x-python",
   "name": "python",
   "nbconvert_exporter": "python",
   "pygments_lexer": "ipython3",
   "version": "3.11.6"
  }
 },
 "nbformat": 4,
 "nbformat_minor": 2
}
